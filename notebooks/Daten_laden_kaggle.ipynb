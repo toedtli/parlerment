{
 "cells": [
  {
   "cell_type": "code",
   "execution_count": 1,
   "id": "04bdfebd-8f44-41d8-a54a-86c9c8e68dc5",
   "metadata": {},
   "outputs": [],
   "source": [
    "from glob import glob\n",
    "import matplotlib.pyplot as plt\n",
    "import os\n",
    "import os.path\n",
    "import configparser \n",
    "import requests\n",
    "import pandas as pd\n",
    "from datetime import datetime\n",
    "\n",
    "import numpy as np\n",
    "from pathlib import Path"
   ]
  },
  {
   "cell_type": "code",
   "execution_count": 2,
   "id": "8a075f08-17e4-48b3-aa9d-162b30c6c160",
   "metadata": {},
   "outputs": [
    {
     "name": "stdout",
     "output_type": "stream",
     "text": [
      "['DEFAULT', 'Verzeichnisse', 'Links', 'Einstellungen']\n"
     ]
    },
    {
     "data": {
      "text/plain": [
       "<configparser.ConfigParser at 0x7ff3854e6690>"
      ]
     },
     "execution_count": 2,
     "metadata": {},
     "output_type": "execute_result"
    }
   ],
   "source": [
    "config = configparser.ConfigParser()\n",
    "config.read('../config.ini', encoding='utf-8')\n",
    "print(list(config.keys()))\n",
    "config"
   ]
  },
  {
   "cell_type": "code",
   "execution_count": 19,
   "id": "3d36bfb0-c1ee-4c60-83c5-6eaf029fad41",
   "metadata": {},
   "outputs": [],
   "source": [
    "ScratchPfad = Path(config['Verzeichnisse']['Verarbeitungspfad'])\n",
    "Text_Pfad = ScratchPfad/'Text'"
   ]
  },
  {
   "cell_type": "code",
   "execution_count": 20,
   "id": "faf033cd-4620-4abc-82f2-df02dd4cf00c",
   "metadata": {},
   "outputs": [
    {
     "data": {
      "text/plain": [
       "(4117, 35)"
      ]
     },
     "execution_count": 20,
     "metadata": {},
     "output_type": "execute_result"
    }
   ],
   "source": [
    "list(config['Verzeichnisse'].keys())\n",
    "df = pd.read_csv(config['Verzeichnisse']['inputcsv'],sep=';')\n",
    "df['Sitzungsdatum']=df[['Sitzungsdatum']].astype('datetime64[ns]')\n",
    "#df['Legislatur']=df[['Legislatur']].astype('datetime64[ns]')\n",
    "df['Dokumentendatum']=df[['Dokumentendatum']].astype('datetime64[ns]')\n",
    "\n",
    "df = df.set_index('Traktandum_GUID')#Geschaeft_GUID not unique\n",
    "\n",
    "df.shape"
   ]
  },
  {
   "cell_type": "code",
   "execution_count": 21,
   "id": "51a36fde-cbfa-47a0-b27d-00d58f9e79d1",
   "metadata": {},
   "outputs": [
    {
     "data": {
      "text/html": [
       "<div>\n",
       "<style scoped>\n",
       "    .dataframe tbody tr th:only-of-type {\n",
       "        vertical-align: middle;\n",
       "    }\n",
       "\n",
       "    .dataframe tbody tr th {\n",
       "        vertical-align: top;\n",
       "    }\n",
       "\n",
       "    .dataframe thead th {\n",
       "        text-align: right;\n",
       "    }\n",
       "</style>\n",
       "<table border=\"1\" class=\"dataframe\">\n",
       "  <thead>\n",
       "    <tr style=\"text-align: right;\">\n",
       "      <th></th>\n",
       "      <th>nr</th>\n",
       "      <th>Sitzungs_ID</th>\n",
       "      <th>Link zur Sitzung</th>\n",
       "      <th>Legislatur</th>\n",
       "      <th>Jahr</th>\n",
       "      <th>Bezeichnung</th>\n",
       "      <th>Sitzungsdatum</th>\n",
       "      <th>Freigabe</th>\n",
       "      <th>Ort</th>\n",
       "      <th>Zeit</th>\n",
       "      <th>...</th>\n",
       "      <th>Aktenplan Ebene4</th>\n",
       "      <th>Aktenplan Ebene5</th>\n",
       "      <th>Aktenplan Ebene6</th>\n",
       "      <th>Dokumentendatum</th>\n",
       "      <th>Dokumententitel</th>\n",
       "      <th>Traktandentitel</th>\n",
       "      <th>Vorberatende Kommission</th>\n",
       "      <th>Traktandenstatus</th>\n",
       "      <th>Traktandennummer</th>\n",
       "      <th>Geschaeft_GUID</th>\n",
       "    </tr>\n",
       "    <tr>\n",
       "      <th>Traktandum_GUID</th>\n",
       "      <th></th>\n",
       "      <th></th>\n",
       "      <th></th>\n",
       "      <th></th>\n",
       "      <th></th>\n",
       "      <th></th>\n",
       "      <th></th>\n",
       "      <th></th>\n",
       "      <th></th>\n",
       "      <th></th>\n",
       "      <th></th>\n",
       "      <th></th>\n",
       "      <th></th>\n",
       "      <th></th>\n",
       "      <th></th>\n",
       "      <th></th>\n",
       "      <th></th>\n",
       "      <th></th>\n",
       "      <th></th>\n",
       "      <th></th>\n",
       "      <th></th>\n",
       "    </tr>\n",
       "  </thead>\n",
       "  <tbody>\n",
       "    <tr>\n",
       "      <th>93963f811e3647fd932335346f69a3aa</th>\n",
       "      <td>2015-05-19T00:00:00.000-1</td>\n",
       "      <td>b1efd5e4190e435f8c5d510bae7f9734</td>\n",
       "      <td>https://www.stadt.sg.ch/home/verwaltung-politi...</td>\n",
       "      <td>01.01.2013 - 31.12.2016</td>\n",
       "      <td>2015</td>\n",
       "      <td>29. Sitzung Stadtparlament</td>\n",
       "      <td>2015-05-19</td>\n",
       "      <td>Öffentlich</td>\n",
       "      <td>NaN</td>\n",
       "      <td>16:00</td>\n",
       "      <td>...</td>\n",
       "      <td>Zonenpläne (inkl. Schutzgebiete)</td>\n",
       "      <td>NaN</td>\n",
       "      <td>NaN</td>\n",
       "      <td>2015-05-26</td>\n",
       "      <td>Protokoll StParl 19.05.2015</td>\n",
       "      <td>Änderung von Bauordnung und Zonenplan für die ...</td>\n",
       "      <td>NaN</td>\n",
       "      <td>verschoben</td>\n",
       "      <td>1.0</td>\n",
       "      <td>06fb83df670049a8bc41a9885cf8bbe9</td>\n",
       "    </tr>\n",
       "    <tr>\n",
       "      <th>493483415bb249729122bf324c06d37b</th>\n",
       "      <td>2006-08-29T00:00:00.000-9</td>\n",
       "      <td>b34c57055ae345f48dc0a16c8ecbf587</td>\n",
       "      <td>NaN</td>\n",
       "      <td>01.01.2005 - 31.12.2008</td>\n",
       "      <td>2006</td>\n",
       "      <td>25. Sitzung Stadtparlament</td>\n",
       "      <td>2006-08-29</td>\n",
       "      <td>Öffentlich</td>\n",
       "      <td>Waaghaus</td>\n",
       "      <td>NaN</td>\n",
       "      <td>...</td>\n",
       "      <td>Stadtparlament: Parlamentarische Vorstösse</td>\n",
       "      <td>Stadtparlament: Interpellationen</td>\n",
       "      <td>NaN</td>\n",
       "      <td>2006-08-29</td>\n",
       "      <td>Protokoll StParl 29.08.2006</td>\n",
       "      <td>Interpellation Angela Tsering-Bruderer: Mitmac...</td>\n",
       "      <td>NaN</td>\n",
       "      <td>NaN</td>\n",
       "      <td>9.0</td>\n",
       "      <td>e86168b6dc4e4f0dbf591c8b0c475228</td>\n",
       "    </tr>\n",
       "  </tbody>\n",
       "</table>\n",
       "<p>2 rows × 35 columns</p>\n",
       "</div>"
      ],
      "text/plain": [
       "                                                         nr  \\\n",
       "Traktandum_GUID                                               \n",
       "93963f811e3647fd932335346f69a3aa  2015-05-19T00:00:00.000-1   \n",
       "493483415bb249729122bf324c06d37b  2006-08-29T00:00:00.000-9   \n",
       "\n",
       "                                                       Sitzungs_ID  \\\n",
       "Traktandum_GUID                                                      \n",
       "93963f811e3647fd932335346f69a3aa  b1efd5e4190e435f8c5d510bae7f9734   \n",
       "493483415bb249729122bf324c06d37b  b34c57055ae345f48dc0a16c8ecbf587   \n",
       "\n",
       "                                                                   Link zur Sitzung  \\\n",
       "Traktandum_GUID                                                                       \n",
       "93963f811e3647fd932335346f69a3aa  https://www.stadt.sg.ch/home/verwaltung-politi...   \n",
       "493483415bb249729122bf324c06d37b                                                NaN   \n",
       "\n",
       "                                               Legislatur  Jahr  \\\n",
       "Traktandum_GUID                                                   \n",
       "93963f811e3647fd932335346f69a3aa  01.01.2013 - 31.12.2016  2015   \n",
       "493483415bb249729122bf324c06d37b  01.01.2005 - 31.12.2008  2006   \n",
       "\n",
       "                                                 Bezeichnung Sitzungsdatum  \\\n",
       "Traktandum_GUID                                                              \n",
       "93963f811e3647fd932335346f69a3aa  29. Sitzung Stadtparlament    2015-05-19   \n",
       "493483415bb249729122bf324c06d37b  25. Sitzung Stadtparlament    2006-08-29   \n",
       "\n",
       "                                    Freigabe       Ort   Zeit  ...  \\\n",
       "Traktandum_GUID                                                ...   \n",
       "93963f811e3647fd932335346f69a3aa  Öffentlich       NaN  16:00  ...   \n",
       "493483415bb249729122bf324c06d37b  Öffentlich  Waaghaus    NaN  ...   \n",
       "\n",
       "                                                            Aktenplan Ebene4  \\\n",
       "Traktandum_GUID                                                                \n",
       "93963f811e3647fd932335346f69a3aa            Zonenpläne (inkl. Schutzgebiete)   \n",
       "493483415bb249729122bf324c06d37b  Stadtparlament: Parlamentarische Vorstösse   \n",
       "\n",
       "                                                  Aktenplan Ebene5  \\\n",
       "Traktandum_GUID                                                      \n",
       "93963f811e3647fd932335346f69a3aa                               NaN   \n",
       "493483415bb249729122bf324c06d37b  Stadtparlament: Interpellationen   \n",
       "\n",
       "                                 Aktenplan Ebene6 Dokumentendatum  \\\n",
       "Traktandum_GUID                                                     \n",
       "93963f811e3647fd932335346f69a3aa              NaN      2015-05-26   \n",
       "493483415bb249729122bf324c06d37b              NaN      2006-08-29   \n",
       "\n",
       "                                              Dokumententitel  \\\n",
       "Traktandum_GUID                                                 \n",
       "93963f811e3647fd932335346f69a3aa  Protokoll StParl 19.05.2015   \n",
       "493483415bb249729122bf324c06d37b  Protokoll StParl 29.08.2006   \n",
       "\n",
       "                                                                    Traktandentitel  \\\n",
       "Traktandum_GUID                                                                       \n",
       "93963f811e3647fd932335346f69a3aa  Änderung von Bauordnung und Zonenplan für die ...   \n",
       "493483415bb249729122bf324c06d37b  Interpellation Angela Tsering-Bruderer: Mitmac...   \n",
       "\n",
       "                                 Vorberatende Kommission Traktandenstatus  \\\n",
       "Traktandum_GUID                                                             \n",
       "93963f811e3647fd932335346f69a3aa                     NaN       verschoben   \n",
       "493483415bb249729122bf324c06d37b                     NaN              NaN   \n",
       "\n",
       "                                 Traktandennummer  \\\n",
       "Traktandum_GUID                                     \n",
       "93963f811e3647fd932335346f69a3aa              1.0   \n",
       "493483415bb249729122bf324c06d37b              9.0   \n",
       "\n",
       "                                                    Geschaeft_GUID  \n",
       "Traktandum_GUID                                                     \n",
       "93963f811e3647fd932335346f69a3aa  06fb83df670049a8bc41a9885cf8bbe9  \n",
       "493483415bb249729122bf324c06d37b  e86168b6dc4e4f0dbf591c8b0c475228  \n",
       "\n",
       "[2 rows x 35 columns]"
      ]
     },
     "execution_count": 21,
     "metadata": {},
     "output_type": "execute_result"
    }
   ],
   "source": [
    "df.head(2)"
   ]
  },
  {
   "cell_type": "code",
   "execution_count": 22,
   "id": "838b553e-45b2-4c4a-9d6a-2e97af68eee1",
   "metadata": {},
   "outputs": [
    {
     "data": {
      "text/plain": [
       "((4115,), 2721)"
      ]
     },
     "execution_count": 22,
     "metadata": {},
     "output_type": "execute_result"
    }
   ],
   "source": [
    "urls = df['Download Traktandumsdokumente'].dropna().map(lambda x: Path(x))\n",
    "urls.shape,urls.nunique() #URLs sind mehrfach gelistet!!!"
   ]
  },
  {
   "cell_type": "code",
   "execution_count": 23,
   "id": "8a2334d9-e2c4-4b8a-80e1-6aa223d64b69",
   "metadata": {},
   "outputs": [],
   "source": [
    "uni = urls.map(lambda p:p.name).map(lambda s: Path(s).with_suffix('')).unique()\n",
    "filelist_ser = pd.Series(uni,index=uni).map(lambda G_GUID: list((Text_Pfad/G_GUID).glob('*.txt')) if not pd.isnull(G_GUID) else '')"
   ]
  },
  {
   "cell_type": "code",
   "execution_count": 24,
   "id": "da6bf95d-2572-4f23-8ade-dd9c2e845c16",
   "metadata": {},
   "outputs": [
    {
     "data": {
      "text/plain": [
       "06fb83df670049a8bc41a9885cf8bbe9    [/home/toedtli/opendatasg/verarbeitung/Text/06...\n",
       "e86168b6dc4e4f0dbf591c8b0c475228    [/home/toedtli/opendatasg/verarbeitung/Text/e8...\n",
       "487ce77608604f0d83746135853f12cd    [/home/toedtli/opendatasg/verarbeitung/Text/48...\n",
       "b519750806854dca8de5dd6b4e5830e7    [/home/toedtli/opendatasg/verarbeitung/Text/b5...\n",
       "e0e0c6a0764e44269539e7b3e413bb8e    [/home/toedtli/opendatasg/verarbeitung/Text/e0...\n",
       "                                                          ...                        \n",
       "6065aa1704014fa6850f1f2dc1b88ca9                                                   []\n",
       "c33ad73a4a994949a550fcd0553693a7                                                   []\n",
       "0488ed5dcf734b6d9990c80ec94f39c7                                                   []\n",
       "e8ef3c74388848c487a14d6ea4d843f2                                                   []\n",
       "6273913fb694495c95389c9946a68385                                                   []\n",
       "Length: 2721, dtype: object"
      ]
     },
     "execution_count": 24,
     "metadata": {},
     "output_type": "execute_result"
    }
   ],
   "source": [
    "filelist_ser"
   ]
  },
  {
   "cell_type": "code",
   "execution_count": 25,
   "id": "3aaac0ae-fdef-40b3-a734-072a06c294b4",
   "metadata": {},
   "outputs": [
    {
     "data": {
      "text/plain": [
       "PosixPath('/home/toedtli/opendatasg/verarbeitung')"
      ]
     },
     "execution_count": 25,
     "metadata": {},
     "output_type": "execute_result"
    }
   ],
   "source": [
    "list(config['Verzeichnisse'].keys())\n",
    "ScratchPfad"
   ]
  },
  {
   "cell_type": "code",
   "execution_count": 26,
   "id": "fdabff9c-5626-4c40-9a17-e85a86cc9c41",
   "metadata": {},
   "outputs": [],
   "source": [
    "Text_Pfad = ScratchPfad/'Text'\n",
    "Text_Pfad_txt = Text_Pfad\n",
    "#filelist = Text_Pfad_txt.glob('*/*.txt')\n",
    "#filelist = glob(r'/home/beat/male-fs22/data/text/*/*.txt')\n",
    "#filelist=list(filelist)\n",
    "#len(filelist),filelist[:4],filelist[0].exists()"
   ]
  },
  {
   "cell_type": "code",
   "execution_count": 29,
   "id": "0fda4cf8-138e-4233-bfd7-124a5d4c99ae",
   "metadata": {},
   "outputs": [
    {
     "data": {
      "text/html": [
       "<div>\n",
       "<style scoped>\n",
       "    .dataframe tbody tr th:only-of-type {\n",
       "        vertical-align: middle;\n",
       "    }\n",
       "\n",
       "    .dataframe tbody tr th {\n",
       "        vertical-align: top;\n",
       "    }\n",
       "\n",
       "    .dataframe thead th {\n",
       "        text-align: right;\n",
       "    }\n",
       "</style>\n",
       "<table border=\"1\" class=\"dataframe\">\n",
       "  <thead>\n",
       "    <tr style=\"text-align: right;\">\n",
       "      <th></th>\n",
       "      <th>nr</th>\n",
       "      <th>Sitzungs_ID</th>\n",
       "      <th>Link zur Sitzung</th>\n",
       "      <th>Legislatur</th>\n",
       "      <th>Jahr</th>\n",
       "      <th>Bezeichnung</th>\n",
       "      <th>Sitzungsdatum</th>\n",
       "      <th>Freigabe</th>\n",
       "      <th>Ort</th>\n",
       "      <th>Zeit</th>\n",
       "      <th>...</th>\n",
       "      <th>Aktenplan Ebene4</th>\n",
       "      <th>Aktenplan Ebene5</th>\n",
       "      <th>Aktenplan Ebene6</th>\n",
       "      <th>Dokumentendatum</th>\n",
       "      <th>Dokumententitel</th>\n",
       "      <th>Traktandentitel</th>\n",
       "      <th>Vorberatende Kommission</th>\n",
       "      <th>Traktandenstatus</th>\n",
       "      <th>Traktandennummer</th>\n",
       "      <th>Geschaeft_GUID</th>\n",
       "    </tr>\n",
       "    <tr>\n",
       "      <th>Traktandum_GUID</th>\n",
       "      <th></th>\n",
       "      <th></th>\n",
       "      <th></th>\n",
       "      <th></th>\n",
       "      <th></th>\n",
       "      <th></th>\n",
       "      <th></th>\n",
       "      <th></th>\n",
       "      <th></th>\n",
       "      <th></th>\n",
       "      <th></th>\n",
       "      <th></th>\n",
       "      <th></th>\n",
       "      <th></th>\n",
       "      <th></th>\n",
       "      <th></th>\n",
       "      <th></th>\n",
       "      <th></th>\n",
       "      <th></th>\n",
       "      <th></th>\n",
       "      <th></th>\n",
       "    </tr>\n",
       "  </thead>\n",
       "  <tbody>\n",
       "    <tr>\n",
       "      <th>93963f811e3647fd932335346f69a3aa</th>\n",
       "      <td>2015-05-19T00:00:00.000-1</td>\n",
       "      <td>b1efd5e4190e435f8c5d510bae7f9734</td>\n",
       "      <td>https://www.stadt.sg.ch/home/verwaltung-politi...</td>\n",
       "      <td>01.01.2013 - 31.12.2016</td>\n",
       "      <td>2015</td>\n",
       "      <td>29. Sitzung Stadtparlament</td>\n",
       "      <td>2015-05-19</td>\n",
       "      <td>Öffentlich</td>\n",
       "      <td>NaN</td>\n",
       "      <td>16:00</td>\n",
       "      <td>...</td>\n",
       "      <td>Zonenpläne (inkl. Schutzgebiete)</td>\n",
       "      <td>NaN</td>\n",
       "      <td>NaN</td>\n",
       "      <td>2015-05-26</td>\n",
       "      <td>Protokoll StParl 19.05.2015</td>\n",
       "      <td>Änderung von Bauordnung und Zonenplan für die ...</td>\n",
       "      <td>NaN</td>\n",
       "      <td>verschoben</td>\n",
       "      <td>1.0</td>\n",
       "      <td>06fb83df670049a8bc41a9885cf8bbe9</td>\n",
       "    </tr>\n",
       "    <tr>\n",
       "      <th>493483415bb249729122bf324c06d37b</th>\n",
       "      <td>2006-08-29T00:00:00.000-9</td>\n",
       "      <td>b34c57055ae345f48dc0a16c8ecbf587</td>\n",
       "      <td>NaN</td>\n",
       "      <td>01.01.2005 - 31.12.2008</td>\n",
       "      <td>2006</td>\n",
       "      <td>25. Sitzung Stadtparlament</td>\n",
       "      <td>2006-08-29</td>\n",
       "      <td>Öffentlich</td>\n",
       "      <td>Waaghaus</td>\n",
       "      <td>NaN</td>\n",
       "      <td>...</td>\n",
       "      <td>Stadtparlament: Parlamentarische Vorstösse</td>\n",
       "      <td>Stadtparlament: Interpellationen</td>\n",
       "      <td>NaN</td>\n",
       "      <td>2006-08-29</td>\n",
       "      <td>Protokoll StParl 29.08.2006</td>\n",
       "      <td>Interpellation Angela Tsering-Bruderer: Mitmac...</td>\n",
       "      <td>NaN</td>\n",
       "      <td>NaN</td>\n",
       "      <td>9.0</td>\n",
       "      <td>e86168b6dc4e4f0dbf591c8b0c475228</td>\n",
       "    </tr>\n",
       "    <tr>\n",
       "      <th>1f218c4961144ff79051bd6ec2a86aeb</th>\n",
       "      <td>2006-08-29T00:00:00.000-3</td>\n",
       "      <td>b34c57055ae345f48dc0a16c8ecbf587</td>\n",
       "      <td>NaN</td>\n",
       "      <td>01.01.2005 - 31.12.2008</td>\n",
       "      <td>2006</td>\n",
       "      <td>25. Sitzung Stadtparlament</td>\n",
       "      <td>2006-08-29</td>\n",
       "      <td>Öffentlich</td>\n",
       "      <td>Waaghaus</td>\n",
       "      <td>NaN</td>\n",
       "      <td>...</td>\n",
       "      <td>Wasser: Hauszuleitungen</td>\n",
       "      <td>Wasser: Hauszuleitungen: Bauliches</td>\n",
       "      <td>NaN</td>\n",
       "      <td>2006-08-29</td>\n",
       "      <td>Protokoll StParl 29.08.2006</td>\n",
       "      <td>St.Gallen - Zürcher Strasse; Erneuerung der Wa...</td>\n",
       "      <td>NaN</td>\n",
       "      <td>NaN</td>\n",
       "      <td>3.0</td>\n",
       "      <td>487ce77608604f0d83746135853f12cd</td>\n",
       "    </tr>\n",
       "    <tr>\n",
       "      <th>1b7e8b9770eb4f6ba8f7cb84372145da</th>\n",
       "      <td>2006-08-29T00:00:00.000-13</td>\n",
       "      <td>b34c57055ae345f48dc0a16c8ecbf587</td>\n",
       "      <td>NaN</td>\n",
       "      <td>01.01.2005 - 31.12.2008</td>\n",
       "      <td>2006</td>\n",
       "      <td>25. Sitzung Stadtparlament</td>\n",
       "      <td>2006-08-29</td>\n",
       "      <td>Öffentlich</td>\n",
       "      <td>Waaghaus</td>\n",
       "      <td>NaN</td>\n",
       "      <td>...</td>\n",
       "      <td>Stadtparlament: Parlamentarische Vorstösse</td>\n",
       "      <td>Stadtparlament: Postulate</td>\n",
       "      <td>NaN</td>\n",
       "      <td>2006-08-29</td>\n",
       "      <td>Protokoll StParl 29.08.2006</td>\n",
       "      <td>Postulat Christian Hostettler: Das Nein zur Zü...</td>\n",
       "      <td>NaN</td>\n",
       "      <td>NaN</td>\n",
       "      <td>13.0</td>\n",
       "      <td>b519750806854dca8de5dd6b4e5830e7</td>\n",
       "    </tr>\n",
       "    <tr>\n",
       "      <th>ea3769d5b9604c60b3ccfc24ad23062d</th>\n",
       "      <td>2006-08-29T00:00:00.000-5</td>\n",
       "      <td>b34c57055ae345f48dc0a16c8ecbf587</td>\n",
       "      <td>NaN</td>\n",
       "      <td>01.01.2005 - 31.12.2008</td>\n",
       "      <td>2006</td>\n",
       "      <td>25. Sitzung Stadtparlament</td>\n",
       "      <td>2006-08-29</td>\n",
       "      <td>Öffentlich</td>\n",
       "      <td>Waaghaus</td>\n",
       "      <td>NaN</td>\n",
       "      <td>...</td>\n",
       "      <td>Elektrizität: Allgemeines</td>\n",
       "      <td>NaN</td>\n",
       "      <td>NaN</td>\n",
       "      <td>2006-08-29</td>\n",
       "      <td>Protokoll StParl 29.08.2006</td>\n",
       "      <td>Contracting Notstromanlage Stadion / Einkaufsz...</td>\n",
       "      <td>NaN</td>\n",
       "      <td>NaN</td>\n",
       "      <td>5.0</td>\n",
       "      <td>e0e0c6a0764e44269539e7b3e413bb8e</td>\n",
       "    </tr>\n",
       "  </tbody>\n",
       "</table>\n",
       "<p>5 rows × 35 columns</p>\n",
       "</div>"
      ],
      "text/plain": [
       "                                                          nr  \\\n",
       "Traktandum_GUID                                                \n",
       "93963f811e3647fd932335346f69a3aa   2015-05-19T00:00:00.000-1   \n",
       "493483415bb249729122bf324c06d37b   2006-08-29T00:00:00.000-9   \n",
       "1f218c4961144ff79051bd6ec2a86aeb   2006-08-29T00:00:00.000-3   \n",
       "1b7e8b9770eb4f6ba8f7cb84372145da  2006-08-29T00:00:00.000-13   \n",
       "ea3769d5b9604c60b3ccfc24ad23062d   2006-08-29T00:00:00.000-5   \n",
       "\n",
       "                                                       Sitzungs_ID  \\\n",
       "Traktandum_GUID                                                      \n",
       "93963f811e3647fd932335346f69a3aa  b1efd5e4190e435f8c5d510bae7f9734   \n",
       "493483415bb249729122bf324c06d37b  b34c57055ae345f48dc0a16c8ecbf587   \n",
       "1f218c4961144ff79051bd6ec2a86aeb  b34c57055ae345f48dc0a16c8ecbf587   \n",
       "1b7e8b9770eb4f6ba8f7cb84372145da  b34c57055ae345f48dc0a16c8ecbf587   \n",
       "ea3769d5b9604c60b3ccfc24ad23062d  b34c57055ae345f48dc0a16c8ecbf587   \n",
       "\n",
       "                                                                   Link zur Sitzung  \\\n",
       "Traktandum_GUID                                                                       \n",
       "93963f811e3647fd932335346f69a3aa  https://www.stadt.sg.ch/home/verwaltung-politi...   \n",
       "493483415bb249729122bf324c06d37b                                                NaN   \n",
       "1f218c4961144ff79051bd6ec2a86aeb                                                NaN   \n",
       "1b7e8b9770eb4f6ba8f7cb84372145da                                                NaN   \n",
       "ea3769d5b9604c60b3ccfc24ad23062d                                                NaN   \n",
       "\n",
       "                                               Legislatur  Jahr  \\\n",
       "Traktandum_GUID                                                   \n",
       "93963f811e3647fd932335346f69a3aa  01.01.2013 - 31.12.2016  2015   \n",
       "493483415bb249729122bf324c06d37b  01.01.2005 - 31.12.2008  2006   \n",
       "1f218c4961144ff79051bd6ec2a86aeb  01.01.2005 - 31.12.2008  2006   \n",
       "1b7e8b9770eb4f6ba8f7cb84372145da  01.01.2005 - 31.12.2008  2006   \n",
       "ea3769d5b9604c60b3ccfc24ad23062d  01.01.2005 - 31.12.2008  2006   \n",
       "\n",
       "                                                 Bezeichnung Sitzungsdatum  \\\n",
       "Traktandum_GUID                                                              \n",
       "93963f811e3647fd932335346f69a3aa  29. Sitzung Stadtparlament    2015-05-19   \n",
       "493483415bb249729122bf324c06d37b  25. Sitzung Stadtparlament    2006-08-29   \n",
       "1f218c4961144ff79051bd6ec2a86aeb  25. Sitzung Stadtparlament    2006-08-29   \n",
       "1b7e8b9770eb4f6ba8f7cb84372145da  25. Sitzung Stadtparlament    2006-08-29   \n",
       "ea3769d5b9604c60b3ccfc24ad23062d  25. Sitzung Stadtparlament    2006-08-29   \n",
       "\n",
       "                                    Freigabe       Ort   Zeit  ...  \\\n",
       "Traktandum_GUID                                                ...   \n",
       "93963f811e3647fd932335346f69a3aa  Öffentlich       NaN  16:00  ...   \n",
       "493483415bb249729122bf324c06d37b  Öffentlich  Waaghaus    NaN  ...   \n",
       "1f218c4961144ff79051bd6ec2a86aeb  Öffentlich  Waaghaus    NaN  ...   \n",
       "1b7e8b9770eb4f6ba8f7cb84372145da  Öffentlich  Waaghaus    NaN  ...   \n",
       "ea3769d5b9604c60b3ccfc24ad23062d  Öffentlich  Waaghaus    NaN  ...   \n",
       "\n",
       "                                                            Aktenplan Ebene4  \\\n",
       "Traktandum_GUID                                                                \n",
       "93963f811e3647fd932335346f69a3aa            Zonenpläne (inkl. Schutzgebiete)   \n",
       "493483415bb249729122bf324c06d37b  Stadtparlament: Parlamentarische Vorstösse   \n",
       "1f218c4961144ff79051bd6ec2a86aeb                     Wasser: Hauszuleitungen   \n",
       "1b7e8b9770eb4f6ba8f7cb84372145da  Stadtparlament: Parlamentarische Vorstösse   \n",
       "ea3769d5b9604c60b3ccfc24ad23062d                   Elektrizität: Allgemeines   \n",
       "\n",
       "                                                    Aktenplan Ebene5  \\\n",
       "Traktandum_GUID                                                        \n",
       "93963f811e3647fd932335346f69a3aa                                 NaN   \n",
       "493483415bb249729122bf324c06d37b    Stadtparlament: Interpellationen   \n",
       "1f218c4961144ff79051bd6ec2a86aeb  Wasser: Hauszuleitungen: Bauliches   \n",
       "1b7e8b9770eb4f6ba8f7cb84372145da           Stadtparlament: Postulate   \n",
       "ea3769d5b9604c60b3ccfc24ad23062d                                 NaN   \n",
       "\n",
       "                                 Aktenplan Ebene6 Dokumentendatum  \\\n",
       "Traktandum_GUID                                                     \n",
       "93963f811e3647fd932335346f69a3aa              NaN      2015-05-26   \n",
       "493483415bb249729122bf324c06d37b              NaN      2006-08-29   \n",
       "1f218c4961144ff79051bd6ec2a86aeb              NaN      2006-08-29   \n",
       "1b7e8b9770eb4f6ba8f7cb84372145da              NaN      2006-08-29   \n",
       "ea3769d5b9604c60b3ccfc24ad23062d              NaN      2006-08-29   \n",
       "\n",
       "                                              Dokumententitel  \\\n",
       "Traktandum_GUID                                                 \n",
       "93963f811e3647fd932335346f69a3aa  Protokoll StParl 19.05.2015   \n",
       "493483415bb249729122bf324c06d37b  Protokoll StParl 29.08.2006   \n",
       "1f218c4961144ff79051bd6ec2a86aeb  Protokoll StParl 29.08.2006   \n",
       "1b7e8b9770eb4f6ba8f7cb84372145da  Protokoll StParl 29.08.2006   \n",
       "ea3769d5b9604c60b3ccfc24ad23062d  Protokoll StParl 29.08.2006   \n",
       "\n",
       "                                                                    Traktandentitel  \\\n",
       "Traktandum_GUID                                                                       \n",
       "93963f811e3647fd932335346f69a3aa  Änderung von Bauordnung und Zonenplan für die ...   \n",
       "493483415bb249729122bf324c06d37b  Interpellation Angela Tsering-Bruderer: Mitmac...   \n",
       "1f218c4961144ff79051bd6ec2a86aeb  St.Gallen - Zürcher Strasse; Erneuerung der Wa...   \n",
       "1b7e8b9770eb4f6ba8f7cb84372145da  Postulat Christian Hostettler: Das Nein zur Zü...   \n",
       "ea3769d5b9604c60b3ccfc24ad23062d  Contracting Notstromanlage Stadion / Einkaufsz...   \n",
       "\n",
       "                                 Vorberatende Kommission Traktandenstatus  \\\n",
       "Traktandum_GUID                                                             \n",
       "93963f811e3647fd932335346f69a3aa                     NaN       verschoben   \n",
       "493483415bb249729122bf324c06d37b                     NaN              NaN   \n",
       "1f218c4961144ff79051bd6ec2a86aeb                     NaN              NaN   \n",
       "1b7e8b9770eb4f6ba8f7cb84372145da                     NaN              NaN   \n",
       "ea3769d5b9604c60b3ccfc24ad23062d                     NaN              NaN   \n",
       "\n",
       "                                 Traktandennummer  \\\n",
       "Traktandum_GUID                                     \n",
       "93963f811e3647fd932335346f69a3aa              1.0   \n",
       "493483415bb249729122bf324c06d37b              9.0   \n",
       "1f218c4961144ff79051bd6ec2a86aeb              3.0   \n",
       "1b7e8b9770eb4f6ba8f7cb84372145da             13.0   \n",
       "ea3769d5b9604c60b3ccfc24ad23062d              5.0   \n",
       "\n",
       "                                                    Geschaeft_GUID  \n",
       "Traktandum_GUID                                                     \n",
       "93963f811e3647fd932335346f69a3aa  06fb83df670049a8bc41a9885cf8bbe9  \n",
       "493483415bb249729122bf324c06d37b  e86168b6dc4e4f0dbf591c8b0c475228  \n",
       "1f218c4961144ff79051bd6ec2a86aeb  487ce77608604f0d83746135853f12cd  \n",
       "1b7e8b9770eb4f6ba8f7cb84372145da  b519750806854dca8de5dd6b4e5830e7  \n",
       "ea3769d5b9604c60b3ccfc24ad23062d  e0e0c6a0764e44269539e7b3e413bb8e  \n",
       "\n",
       "[5 rows x 35 columns]"
      ]
     },
     "execution_count": 29,
     "metadata": {},
     "output_type": "execute_result"
    }
   ],
   "source": [
    "df.head()"
   ]
  },
  {
   "cell_type": "code",
   "execution_count": 30,
   "id": "78d45bd8-9d64-472d-a45e-8ab11767ea55",
   "metadata": {},
   "outputs": [
    {
     "data": {
      "text/plain": [
       "814247"
      ]
     },
     "execution_count": 30,
     "metadata": {},
     "output_type": "execute_result"
    },
    {
     "data": {
      "image/png": "[encoded data removed]",
      "text/plain": [
       "<Figure size 640x480 with 1 Axes>"
      ]
     },
     "metadata": {},
     "output_type": "display_data"
    }
   ],
   "source": [
    "import codecs\n",
    "def read_and_concat(filelist):\n",
    "    text = ''\n",
    "    for file in filelist:\n",
    "        try:\n",
    "            with codecs.open(file,'r',encoding='utf-8') as fh:\n",
    "                lines = fh.readlines()\n",
    "            text += ''.join(lines)\n",
    "        except FileNotFoundError as err:\n",
    "            print(file)\n",
    "            continue\n",
    "    return text\n",
    "single_text_per_G_GUID = filelist_ser.map(read_and_concat)\n",
    "single_text_per_G_GUID.map(len).hist(bins=50)\n",
    "single_text_per_G_GUID.map(len).max()"
   ]
  },
  {
   "cell_type": "code",
   "execution_count": 31,
   "id": "9bb1573a-0881-423c-8365-4c697c652766",
   "metadata": {},
   "outputs": [
    {
     "data": {
      "text/plain": [
       "06fb83df670049a8bc41a9885cf8bbe9     Nachtrag I zur Bauordnung vom 29. August 2000...\n",
       "e86168b6dc4e4f0dbf591c8b0c475228     C Stadt St.Gallen Stadtrat Vorlage an das Sta...\n",
       "487ce77608604f0d83746135853f12cd    C Stadt St.Gallen Stadtrat Vorlage an das Stad...\n",
       "b519750806854dca8de5dd6b4e5830e7    C Stadt St.Gallen Stadtrat Beschluss vom 8. Au...\n",
       "e0e0c6a0764e44269539e7b3e413bb8e    C Stadt St.Gallen Stadtrat Vorlage an das Stad...\n",
       "                                                          ...                        \n",
       "6065aa1704014fa6850f1f2dc1b88ca9                                                     \n",
       "c33ad73a4a994949a550fcd0553693a7                                                     \n",
       "0488ed5dcf734b6d9990c80ec94f39c7                                                     \n",
       "e8ef3c74388848c487a14d6ea4d843f2                                                     \n",
       "6273913fb694495c95389c9946a68385                                                     \n",
       "Name: Volltext, Length: 2721, dtype: object"
      ]
     },
     "execution_count": 31,
     "metadata": {},
     "output_type": "execute_result"
    }
   ],
   "source": [
    "#single_text_per_G_GUID = single_text_per_G_GUID[single_text_per_G_GUID.map(len)>0] Damit gingen Dokumente verloren!\n",
    "single_text_per_G_GUID.name = 'Volltext'\n",
    "single_text_per_G_GUID"
   ]
  },
  {
   "cell_type": "code",
   "execution_count": 32,
   "id": "d2a7437a-6efd-4aa7-b6c3-b89bb843afbb",
   "metadata": {},
   "outputs": [
    {
     "data": {
      "text/plain": [
       "(4115, 2721)"
      ]
     },
     "execution_count": 32,
     "metadata": {},
     "output_type": "execute_result"
    }
   ],
   "source": [
    "df.index.nunique(),single_text_per_G_GUID.index.nunique()"
   ]
  },
  {
   "cell_type": "code",
   "execution_count": 33,
   "id": "6670e859-678b-44bc-bf16-c9790a637f71",
   "metadata": {},
   "outputs": [
    {
     "name": "stdout",
     "output_type": "stream",
     "text": [
      "(4115, 36)\n"
     ]
    },
    {
     "data": {
      "text/html": [
       "<div>\n",
       "<style scoped>\n",
       "    .dataframe tbody tr th:only-of-type {\n",
       "        vertical-align: middle;\n",
       "    }\n",
       "\n",
       "    .dataframe tbody tr th {\n",
       "        vertical-align: top;\n",
       "    }\n",
       "\n",
       "    .dataframe thead th {\n",
       "        text-align: right;\n",
       "    }\n",
       "</style>\n",
       "<table border=\"1\" class=\"dataframe\">\n",
       "  <thead>\n",
       "    <tr style=\"text-align: right;\">\n",
       "      <th></th>\n",
       "      <th>nr</th>\n",
       "      <th>Sitzungs_ID</th>\n",
       "      <th>Link zur Sitzung</th>\n",
       "      <th>Legislatur</th>\n",
       "      <th>Jahr</th>\n",
       "      <th>Bezeichnung</th>\n",
       "      <th>Sitzungsdatum</th>\n",
       "      <th>Freigabe</th>\n",
       "      <th>Ort</th>\n",
       "      <th>Zeit</th>\n",
       "      <th>...</th>\n",
       "      <th>Aktenplan Ebene5</th>\n",
       "      <th>Aktenplan Ebene6</th>\n",
       "      <th>Dokumentendatum</th>\n",
       "      <th>Dokumententitel</th>\n",
       "      <th>Traktandentitel</th>\n",
       "      <th>Vorberatende Kommission</th>\n",
       "      <th>Traktandenstatus</th>\n",
       "      <th>Traktandennummer</th>\n",
       "      <th>Geschaeft_GUID</th>\n",
       "      <th>Volltext</th>\n",
       "    </tr>\n",
       "    <tr>\n",
       "      <th>Traktandum_GUID</th>\n",
       "      <th></th>\n",
       "      <th></th>\n",
       "      <th></th>\n",
       "      <th></th>\n",
       "      <th></th>\n",
       "      <th></th>\n",
       "      <th></th>\n",
       "      <th></th>\n",
       "      <th></th>\n",
       "      <th></th>\n",
       "      <th></th>\n",
       "      <th></th>\n",
       "      <th></th>\n",
       "      <th></th>\n",
       "      <th></th>\n",
       "      <th></th>\n",
       "      <th></th>\n",
       "      <th></th>\n",
       "      <th></th>\n",
       "      <th></th>\n",
       "      <th></th>\n",
       "    </tr>\n",
       "  </thead>\n",
       "  <tbody>\n",
       "    <tr>\n",
       "      <th>00050e367e7c453c92fb4949cfc9037f</th>\n",
       "      <td>2021-03-23T00:00:00.000-14</td>\n",
       "      <td>fed40e1386c741e881087c113a6eefbc</td>\n",
       "      <td>https://www.stadt.sg.ch/home/verwaltung-politi...</td>\n",
       "      <td>01.01.2021 - 31.12.2024</td>\n",
       "      <td>2021</td>\n",
       "      <td>3. Sitzung Stadtparlament</td>\n",
       "      <td>2021-03-23</td>\n",
       "      <td>Öffentlich</td>\n",
       "      <td>Olma Messen; Halle 2.1</td>\n",
       "      <td>16:00</td>\n",
       "      <td>...</td>\n",
       "      <td>Stadtparlament: Interpellationen</td>\n",
       "      <td>NaN</td>\n",
       "      <td>2021-03-08</td>\n",
       "      <td>Beschlussprotokoll Stadtparlament mit Abstimmu...</td>\n",
       "      <td>Interpellation SVP-Fraktion: Parkiergebühren i...</td>\n",
       "      <td>NaN</td>\n",
       "      <td>behandelt</td>\n",
       "      <td>14.0</td>\n",
       "      <td>d4573d7581c5426aaf60f873d156f73a</td>\n",
       "      <td>NaN</td>\n",
       "    </tr>\n",
       "    <tr>\n",
       "      <th>0007982768c146649ea3a6e30c1e870c</th>\n",
       "      <td>2013-12-10T00:00:00.000-8</td>\n",
       "      <td>06344ecdbafa476692c3596d4d4e3380</td>\n",
       "      <td>https://www.stadt.sg.ch/home/verwaltung-politi...</td>\n",
       "      <td>01.01.2013 - 31.12.2016</td>\n",
       "      <td>2013</td>\n",
       "      <td>11. Sitzung Stadtparlament</td>\n",
       "      <td>2013-12-10</td>\n",
       "      <td>Öffentlich</td>\n",
       "      <td>Waaghaus</td>\n",
       "      <td>16:00</td>\n",
       "      <td>...</td>\n",
       "      <td>Stadtparlament: Einfache Anfragen</td>\n",
       "      <td>NaN</td>\n",
       "      <td>2013-12-16</td>\n",
       "      <td>Protokoll Stadtparlament vom 10. Dezember 2013</td>\n",
       "      <td>Einfache Anfrage Monika Simmler: Veränderte Pr...</td>\n",
       "      <td>NaN</td>\n",
       "      <td>behandelt</td>\n",
       "      <td>8.0</td>\n",
       "      <td>8f5cd002e733455e9916ee954df5bf1c</td>\n",
       "      <td>NaN</td>\n",
       "    </tr>\n",
       "    <tr>\n",
       "      <th>0032e211a7ba47ba8125a3593e40439f</th>\n",
       "      <td>2019-06-25T00:00:00.000-6</td>\n",
       "      <td>70e151b0e4814773b7de9fc3f00a468d</td>\n",
       "      <td>https://www.stadt.sg.ch/home/verwaltung-politi...</td>\n",
       "      <td>01.01.2017 - 31.12.2020</td>\n",
       "      <td>2019</td>\n",
       "      <td>34. Sitzung Stadtparlament Aufräumsitzung</td>\n",
       "      <td>2019-06-25</td>\n",
       "      <td>Öffentlich</td>\n",
       "      <td>Waaghaus</td>\n",
       "      <td>16:00</td>\n",
       "      <td>...</td>\n",
       "      <td>Stadtparlament: Interpellationen</td>\n",
       "      <td>NaN</td>\n",
       "      <td>2019-07-01</td>\n",
       "      <td>Beschlussprotokoll Stadtparlament 25.06.2019 i...</td>\n",
       "      <td>Interpellation Guido Berlinger-Bolt: «Scherrer...</td>\n",
       "      <td>NaN</td>\n",
       "      <td>behandelt</td>\n",
       "      <td>6.0</td>\n",
       "      <td>e21a1149fb1e41548a946161eed64713</td>\n",
       "      <td>NaN</td>\n",
       "    </tr>\n",
       "    <tr>\n",
       "      <th>00528b6059e54070b098b97139badfe9</th>\n",
       "      <td>2023-10-31T00:00:00.000-21</td>\n",
       "      <td>c26f59a0c7c24896a7c95c52759b9f64</td>\n",
       "      <td>https://www.stadt.sg.ch/home/verwaltung-politi...</td>\n",
       "      <td>01.01.2021 - 31.12.2024</td>\n",
       "      <td>2023</td>\n",
       "      <td>34. Sitzung Stadtparlament</td>\n",
       "      <td>2023-10-31</td>\n",
       "      <td>Öffentlich</td>\n",
       "      <td>Waaghaus</td>\n",
       "      <td>16:00</td>\n",
       "      <td>...</td>\n",
       "      <td>Stadtparlament: Einfache Anfragen</td>\n",
       "      <td>NaN</td>\n",
       "      <td>2023-11-02</td>\n",
       "      <td>Beschlussprotokoll Stadtparlament mit Abstimmu...</td>\n",
       "      <td>Einfache Anfrage Doris Königer: Das unendliche...</td>\n",
       "      <td>NaN</td>\n",
       "      <td>behandelt</td>\n",
       "      <td>21.0</td>\n",
       "      <td>20fbd38b188a4c84a4e71c99c195bc61</td>\n",
       "      <td>NaN</td>\n",
       "    </tr>\n",
       "    <tr>\n",
       "      <th>0062fff42204448b9c4d5047ccf1c942</th>\n",
       "      <td>2002-05-21T00:00:00.000-3</td>\n",
       "      <td>94d5f19a624a4ea38df94ba0b54815e3</td>\n",
       "      <td>NaN</td>\n",
       "      <td>01.01.2001 - 31.12.2004</td>\n",
       "      <td>2002</td>\n",
       "      <td>21. Sitzung Stadtparlament</td>\n",
       "      <td>2002-05-21</td>\n",
       "      <td>Öffentlich</td>\n",
       "      <td>Waaghaus</td>\n",
       "      <td>NaN</td>\n",
       "      <td>...</td>\n",
       "      <td>Sportanlagen Neudorf: Bauliches</td>\n",
       "      <td>NaN</td>\n",
       "      <td>2002-05-21</td>\n",
       "      <td>Protokoll StParl 21.05.2002</td>\n",
       "      <td>Projektierungskredit für das Polysportive Zent...</td>\n",
       "      <td>NaN</td>\n",
       "      <td>behandelt</td>\n",
       "      <td>3.0</td>\n",
       "      <td>809e39a951d54f74ab2660a8aa04d95c</td>\n",
       "      <td>NaN</td>\n",
       "    </tr>\n",
       "  </tbody>\n",
       "</table>\n",
       "<p>5 rows × 36 columns</p>\n",
       "</div>"
      ],
      "text/plain": [
       "                                                          nr  \\\n",
       "Traktandum_GUID                                                \n",
       "00050e367e7c453c92fb4949cfc9037f  2021-03-23T00:00:00.000-14   \n",
       "0007982768c146649ea3a6e30c1e870c   2013-12-10T00:00:00.000-8   \n",
       "0032e211a7ba47ba8125a3593e40439f   2019-06-25T00:00:00.000-6   \n",
       "00528b6059e54070b098b97139badfe9  2023-10-31T00:00:00.000-21   \n",
       "0062fff42204448b9c4d5047ccf1c942   2002-05-21T00:00:00.000-3   \n",
       "\n",
       "                                                       Sitzungs_ID  \\\n",
       "Traktandum_GUID                                                      \n",
       "00050e367e7c453c92fb4949cfc9037f  fed40e1386c741e881087c113a6eefbc   \n",
       "0007982768c146649ea3a6e30c1e870c  06344ecdbafa476692c3596d4d4e3380   \n",
       "0032e211a7ba47ba8125a3593e40439f  70e151b0e4814773b7de9fc3f00a468d   \n",
       "00528b6059e54070b098b97139badfe9  c26f59a0c7c24896a7c95c52759b9f64   \n",
       "0062fff42204448b9c4d5047ccf1c942  94d5f19a624a4ea38df94ba0b54815e3   \n",
       "\n",
       "                                                                   Link zur Sitzung  \\\n",
       "Traktandum_GUID                                                                       \n",
       "00050e367e7c453c92fb4949cfc9037f  https://www.stadt.sg.ch/home/verwaltung-politi...   \n",
       "0007982768c146649ea3a6e30c1e870c  https://www.stadt.sg.ch/home/verwaltung-politi...   \n",
       "0032e211a7ba47ba8125a3593e40439f  https://www.stadt.sg.ch/home/verwaltung-politi...   \n",
       "00528b6059e54070b098b97139badfe9  https://www.stadt.sg.ch/home/verwaltung-politi...   \n",
       "0062fff42204448b9c4d5047ccf1c942                                                NaN   \n",
       "\n",
       "                                               Legislatur  Jahr  \\\n",
       "Traktandum_GUID                                                   \n",
       "00050e367e7c453c92fb4949cfc9037f  01.01.2021 - 31.12.2024  2021   \n",
       "0007982768c146649ea3a6e30c1e870c  01.01.2013 - 31.12.2016  2013   \n",
       "0032e211a7ba47ba8125a3593e40439f  01.01.2017 - 31.12.2020  2019   \n",
       "00528b6059e54070b098b97139badfe9  01.01.2021 - 31.12.2024  2023   \n",
       "0062fff42204448b9c4d5047ccf1c942  01.01.2001 - 31.12.2004  2002   \n",
       "\n",
       "                                                                Bezeichnung  \\\n",
       "Traktandum_GUID                                                               \n",
       "00050e367e7c453c92fb4949cfc9037f                  3. Sitzung Stadtparlament   \n",
       "0007982768c146649ea3a6e30c1e870c                 11. Sitzung Stadtparlament   \n",
       "0032e211a7ba47ba8125a3593e40439f  34. Sitzung Stadtparlament Aufräumsitzung   \n",
       "00528b6059e54070b098b97139badfe9                 34. Sitzung Stadtparlament   \n",
       "0062fff42204448b9c4d5047ccf1c942                 21. Sitzung Stadtparlament   \n",
       "\n",
       "                                 Sitzungsdatum    Freigabe  \\\n",
       "Traktandum_GUID                                              \n",
       "00050e367e7c453c92fb4949cfc9037f    2021-03-23  Öffentlich   \n",
       "0007982768c146649ea3a6e30c1e870c    2013-12-10  Öffentlich   \n",
       "0032e211a7ba47ba8125a3593e40439f    2019-06-25  Öffentlich   \n",
       "00528b6059e54070b098b97139badfe9    2023-10-31  Öffentlich   \n",
       "0062fff42204448b9c4d5047ccf1c942    2002-05-21  Öffentlich   \n",
       "\n",
       "                                                     Ort   Zeit  ...  \\\n",
       "Traktandum_GUID                                                  ...   \n",
       "00050e367e7c453c92fb4949cfc9037f  Olma Messen; Halle 2.1  16:00  ...   \n",
       "0007982768c146649ea3a6e30c1e870c                Waaghaus  16:00  ...   \n",
       "0032e211a7ba47ba8125a3593e40439f                Waaghaus  16:00  ...   \n",
       "00528b6059e54070b098b97139badfe9                Waaghaus  16:00  ...   \n",
       "0062fff42204448b9c4d5047ccf1c942                Waaghaus    NaN  ...   \n",
       "\n",
       "                                                   Aktenplan Ebene5  \\\n",
       "Traktandum_GUID                                                       \n",
       "00050e367e7c453c92fb4949cfc9037f   Stadtparlament: Interpellationen   \n",
       "0007982768c146649ea3a6e30c1e870c  Stadtparlament: Einfache Anfragen   \n",
       "0032e211a7ba47ba8125a3593e40439f   Stadtparlament: Interpellationen   \n",
       "00528b6059e54070b098b97139badfe9  Stadtparlament: Einfache Anfragen   \n",
       "0062fff42204448b9c4d5047ccf1c942    Sportanlagen Neudorf: Bauliches   \n",
       "\n",
       "                                 Aktenplan Ebene6 Dokumentendatum  \\\n",
       "Traktandum_GUID                                                     \n",
       "00050e367e7c453c92fb4949cfc9037f              NaN      2021-03-08   \n",
       "0007982768c146649ea3a6e30c1e870c              NaN      2013-12-16   \n",
       "0032e211a7ba47ba8125a3593e40439f              NaN      2019-07-01   \n",
       "00528b6059e54070b098b97139badfe9              NaN      2023-11-02   \n",
       "0062fff42204448b9c4d5047ccf1c942              NaN      2002-05-21   \n",
       "\n",
       "                                                                    Dokumententitel  \\\n",
       "Traktandum_GUID                                                                       \n",
       "00050e367e7c453c92fb4949cfc9037f  Beschlussprotokoll Stadtparlament mit Abstimmu...   \n",
       "0007982768c146649ea3a6e30c1e870c     Protokoll Stadtparlament vom 10. Dezember 2013   \n",
       "0032e211a7ba47ba8125a3593e40439f  Beschlussprotokoll Stadtparlament 25.06.2019 i...   \n",
       "00528b6059e54070b098b97139badfe9  Beschlussprotokoll Stadtparlament mit Abstimmu...   \n",
       "0062fff42204448b9c4d5047ccf1c942                        Protokoll StParl 21.05.2002   \n",
       "\n",
       "                                                                    Traktandentitel  \\\n",
       "Traktandum_GUID                                                                       \n",
       "00050e367e7c453c92fb4949cfc9037f  Interpellation SVP-Fraktion: Parkiergebühren i...   \n",
       "0007982768c146649ea3a6e30c1e870c  Einfache Anfrage Monika Simmler: Veränderte Pr...   \n",
       "0032e211a7ba47ba8125a3593e40439f  Interpellation Guido Berlinger-Bolt: «Scherrer...   \n",
       "00528b6059e54070b098b97139badfe9  Einfache Anfrage Doris Königer: Das unendliche...   \n",
       "0062fff42204448b9c4d5047ccf1c942  Projektierungskredit für das Polysportive Zent...   \n",
       "\n",
       "                                 Vorberatende Kommission Traktandenstatus  \\\n",
       "Traktandum_GUID                                                             \n",
       "00050e367e7c453c92fb4949cfc9037f                     NaN        behandelt   \n",
       "0007982768c146649ea3a6e30c1e870c                     NaN        behandelt   \n",
       "0032e211a7ba47ba8125a3593e40439f                     NaN        behandelt   \n",
       "00528b6059e54070b098b97139badfe9                     NaN        behandelt   \n",
       "0062fff42204448b9c4d5047ccf1c942                     NaN        behandelt   \n",
       "\n",
       "                                 Traktandennummer  \\\n",
       "Traktandum_GUID                                     \n",
       "00050e367e7c453c92fb4949cfc9037f             14.0   \n",
       "0007982768c146649ea3a6e30c1e870c              8.0   \n",
       "0032e211a7ba47ba8125a3593e40439f              6.0   \n",
       "00528b6059e54070b098b97139badfe9             21.0   \n",
       "0062fff42204448b9c4d5047ccf1c942              3.0   \n",
       "\n",
       "                                                    Geschaeft_GUID Volltext  \n",
       "Traktandum_GUID                                                              \n",
       "00050e367e7c453c92fb4949cfc9037f  d4573d7581c5426aaf60f873d156f73a      NaN  \n",
       "0007982768c146649ea3a6e30c1e870c  8f5cd002e733455e9916ee954df5bf1c      NaN  \n",
       "0032e211a7ba47ba8125a3593e40439f  e21a1149fb1e41548a946161eed64713      NaN  \n",
       "00528b6059e54070b098b97139badfe9  20fbd38b188a4c84a4e71c99c195bc61      NaN  \n",
       "0062fff42204448b9c4d5047ccf1c942  809e39a951d54f74ab2660a8aa04d95c      NaN  \n",
       "\n",
       "[5 rows x 36 columns]"
      ]
     },
     "execution_count": 33,
     "metadata": {},
     "output_type": "execute_result"
    }
   ],
   "source": [
    "dfjoined = df.join(single_text_per_G_GUID)\n",
    "dfjoined = dfjoined[~dfjoined.index.isnull()]\n",
    "print(dfjoined.shape)\n",
    "dfjoined.head(5)"
   ]
  },
  {
   "cell_type": "code",
   "execution_count": 34,
   "id": "fc91004b-8f7a-4074-98ca-8f76711fa788",
   "metadata": {},
   "outputs": [],
   "source": [
    "import importlib  \n",
    "import sys\n",
    "sys.path.append('..')\n",
    "stadtsg = importlib.import_module(\"data-stadt-sg\")\n",
    "stadtsg.get_traktandierte_geschaefte\n",
    "get_traktandierte_geschaefte = getattr(stadtsg, 'get_traktandierte_geschaefte')"
   ]
  },
  {
   "cell_type": "code",
   "execution_count": 44,
   "id": "099eaf44-7f77-408d-911b-c5673ae59bb7",
   "metadata": {},
   "outputs": [
    {
     "ename": "NameError",
     "evalue": "name 'get_traktandierte_geschaefte' is not defined",
     "output_type": "error",
     "traceback": [
      "\u001b[0;31m---------------------------------------------------------------------------\u001b[0m",
      "\u001b[0;31mNameError\u001b[0m                                 Traceback (most recent call last)",
      "Cell \u001b[0;32mIn[44], line 1\u001b[0m\n\u001b[0;32m----> 1\u001b[0m \u001b[43mget_traktandierte_geschaefte\u001b[49m(\u001b[38;5;124m'\u001b[39m\u001b[38;5;124m../config.ini\u001b[39m\u001b[38;5;124m'\u001b[39m)\n",
      "\u001b[0;31mNameError\u001b[0m: name 'get_traktandierte_geschaefte' is not defined"
     ]
    }
   ],
   "source": [
    "get_traktandierte_geschaefte('../config.ini')"
   ]
  },
  {
   "cell_type": "code",
   "execution_count": 61,
   "id": "11fd62a7-ff08-48d6-b640-dd9613f8b840",
   "metadata": {},
   "outputs": [],
   "source": [
    "import codecs\n",
    "import pandas as pd\n",
    "import numpy as np\n",
    "def load_documents_to_df(filelist):\n",
    "    #data = {}\n",
    "    IDcountDict = defaultdict(lambda :0)\n",
    "    AllDocsDict = defaultdict(lambda :'')\n",
    "    for file in filelist:\n",
    "        Geschaefts_ID = os.path.basename(os.path.split(file)[0])\n",
    "        IDcountDict[Geschaefts_ID]+=1\n",
    "        try:\n",
    "            with codecs.open(file,'r',encoding='utf-8') as fh:\n",
    "                lines = fh.readlines()\n",
    "            text = ''.join(lines)\n",
    "            #data[file]=text\n",
    "            AllDocsDict[Geschaefts_ID]+=text\n",
    "        except FileNotFoundError as err:\n",
    "            continue    \n",
    "    #data_dict = {os.path.basename(k):v for k,v in data.items()}\n",
    "    index = np.arange(len(AllDocsDict))\n",
    "    AllDocsser = pd.Series(AllDocsDict)\n",
    "    return AllDocsser,pd.Series(IDcountDict)"
   ]
  },
  {
   "cell_type": "code",
   "execution_count": 62,
   "id": "8e0eb558-0aec-479a-8069-979064818f98",
   "metadata": {},
   "outputs": [
    {
     "data": {
      "text/plain": [
       "0013105d702a4ea7b4609cab653701d9     C Stadt St.Gallen Stadtrat Vorlage Stadtparla...\n",
       "0030fbaf6f1244428752ec79f0ea707f    C Stadt St.Gallen Stadtrat Vorlage an den Gros...\n",
       "003357f86def402fa435e330c8c72aca     Stadt St.Gallen Stadtrat Vorlage Stadtparlame...\n",
       "0042fedddd4447eb9b90c6eb21f88e6c    (cid:1) Stadt St.Gallen Fraktionen Vorlage Sta...\n",
       "00562d0127a144df91d667ccefa12911     Stadt St.Gallen Stadtrat Vorlage Stadtparlame...\n",
       "dtype: object"
      ]
     },
     "execution_count": 12,
     "metadata": {},
     "output_type": "execute_result"
    }
   ],
   "source": [
    "AllDocsser,NrDocumentsPerGeschaeft= load_documents_to_df(filelist)\n",
    "AllDocsser.head()"
   ]
  },
  {
   "cell_type": "code",
   "execution_count": 63,
   "id": "34e0dbce-c856-404b-bc39-0cb97d4ef3a4",
   "metadata": {},
   "outputs": [
    {
     "data": {
      "text/plain": [
       "<AxesSubplot:>"
      ]
     },
     "execution_count": 13,
     "metadata": {},
     "output_type": "execute_result"
    },
    {
     "data": {
      "image/png": "[encoded data removed]",
      "text/plain": [
       "<Figure size 432x288 with 1 Axes>"
      ]
     },
     "metadata": {
      "needs_background": "light"
     },
     "output_type": "display_data"
    }
   ],
   "source": [
    "NrDocumentsPerGeschaeft.hist()"
   ]
  },
  {
   "cell_type": "code",
   "execution_count": 35,
   "id": "fdceb6d9-b916-45c1-ae7a-3e0d2058ba3f",
   "metadata": {},
   "outputs": [
    {
     "data": {
      "text/html": [
       "<div>\n",
       "<style scoped>\n",
       "    .dataframe tbody tr th:only-of-type {\n",
       "        vertical-align: middle;\n",
       "    }\n",
       "\n",
       "    .dataframe tbody tr th {\n",
       "        vertical-align: top;\n",
       "    }\n",
       "\n",
       "    .dataframe thead th {\n",
       "        text-align: right;\n",
       "    }\n",
       "</style>\n",
       "<table border=\"1\" class=\"dataframe\">\n",
       "  <thead>\n",
       "    <tr style=\"text-align: right;\">\n",
       "      <th></th>\n",
       "      <th>X1</th>\n",
       "      <th>y</th>\n",
       "    </tr>\n",
       "    <tr>\n",
       "      <th>Id</th>\n",
       "      <th></th>\n",
       "      <th></th>\n",
       "    </tr>\n",
       "  </thead>\n",
       "  <tbody>\n",
       "    <tr>\n",
       "      <th>0</th>\n",
       "      <td>Sanierung von zwei Kindergärten und zwei Doppe...</td>\n",
       "      <td>5</td>\n",
       "    </tr>\n",
       "    <tr>\n",
       "      <th>1</th>\n",
       "      <td>Erweiterung der Freihandbibliothek an der Kath...</td>\n",
       "      <td>3</td>\n",
       "    </tr>\n",
       "    <tr>\n",
       "      <th>2</th>\n",
       "      <td>Wahl einer nichtständigen Kommission zur Vorbe...</td>\n",
       "      <td>10</td>\n",
       "    </tr>\n",
       "    <tr>\n",
       "      <th>3</th>\n",
       "      <td>St.Gallen – Felsenstrasse; Kappellenstrasse bi...</td>\n",
       "      <td>10</td>\n",
       "    </tr>\n",
       "    <tr>\n",
       "      <th>4</th>\n",
       "      <td>Schutzverordnung Goldachtobel</td>\n",
       "      <td>12</td>\n",
       "    </tr>\n",
       "  </tbody>\n",
       "</table>\n",
       "</div>"
      ],
      "text/plain": [
       "                                                   X1   y\n",
       "Id                                                       \n",
       "0   Sanierung von zwei Kindergärten und zwei Doppe...   5\n",
       "1   Erweiterung der Freihandbibliothek an der Kath...   3\n",
       "2   Wahl einer nichtständigen Kommission zur Vorbe...  10\n",
       "3   St.Gallen – Felsenstrasse; Kappellenstrasse bi...  10\n",
       "4                       Schutzverordnung Goldachtobel  12"
      ]
     },
     "execution_count": 14,
     "metadata": {},
     "output_type": "execute_result"
    }
   ],
   "source": [
    "dftrain = pd.read_csv('../data/Open-Data-SG/train.csv',index_col='Id')\n",
    "dftrain.head()"
   ]
  },
  {
   "cell_type": "code",
   "execution_count": 38,
   "id": "1e2b0320-a167-43c3-bd11-6c82cd33183a",
   "metadata": {},
   "outputs": [
    {
     "data": {
      "text/html": [
       "<div>\n",
       "<style scoped>\n",
       "    .dataframe tbody tr th:only-of-type {\n",
       "        vertical-align: middle;\n",
       "    }\n",
       "\n",
       "    .dataframe tbody tr th {\n",
       "        vertical-align: top;\n",
       "    }\n",
       "\n",
       "    .dataframe thead th {\n",
       "        text-align: right;\n",
       "    }\n",
       "</style>\n",
       "<table border=\"1\" class=\"dataframe\">\n",
       "  <thead>\n",
       "    <tr style=\"text-align: right;\">\n",
       "      <th></th>\n",
       "      <th>nr</th>\n",
       "      <th>Sitzungs_ID</th>\n",
       "      <th>Link zur Sitzung</th>\n",
       "      <th>Legislatur</th>\n",
       "      <th>Jahr</th>\n",
       "      <th>Bezeichnung</th>\n",
       "      <th>Sitzungsdatum</th>\n",
       "      <th>Freigabe</th>\n",
       "      <th>Ort</th>\n",
       "      <th>Zeit</th>\n",
       "      <th>...</th>\n",
       "      <th>Aktenplan Ebene5</th>\n",
       "      <th>Aktenplan Ebene6</th>\n",
       "      <th>Dokumentendatum</th>\n",
       "      <th>Dokumententitel</th>\n",
       "      <th>Traktandentitel</th>\n",
       "      <th>Vorberatende Kommission</th>\n",
       "      <th>Traktandenstatus</th>\n",
       "      <th>Traktandennummer</th>\n",
       "      <th>Geschaeft_GUID</th>\n",
       "      <th>Traktandum_GUID</th>\n",
       "    </tr>\n",
       "  </thead>\n",
       "  <tbody>\n",
       "    <tr>\n",
       "      <th>0</th>\n",
       "      <td>2014-05-06T00:00:00.000-2</td>\n",
       "      <td>00731bb5b58e4aa0a731370c10e23550</td>\n",
       "      <td>https://www.stadt.sg.ch/home/verwaltung-politi...</td>\n",
       "      <td>01.01.2013 - 31.12.2016</td>\n",
       "      <td>2014</td>\n",
       "      <td>16. Sitzung Stadtparlament</td>\n",
       "      <td>2014-05-06</td>\n",
       "      <td>Öffentlich</td>\n",
       "      <td>Waaghaus</td>\n",
       "      <td>16:00</td>\n",
       "      <td>...</td>\n",
       "      <td>NaN</td>\n",
       "      <td>NaN</td>\n",
       "      <td>2014-05-13</td>\n",
       "      <td>Protokoll Stadtparlament 6. Mai 2014</td>\n",
       "      <td>Neubau des Doppelkindergartens Oberzilstrasse 11</td>\n",
       "      <td>DBP</td>\n",
       "      <td>behandelt</td>\n",
       "      <td>2.0</td>\n",
       "      <td>00e39bd219f34918a9cbc202682fd945</td>\n",
       "      <td>b79087c371a84e198ef60fd4865e3325</td>\n",
       "    </tr>\n",
       "    <tr>\n",
       "      <th>1</th>\n",
       "      <td>2006-11-28T00:00:00.000-6</td>\n",
       "      <td>02fa0fc0d010458db69ae0b3bfa0fc23</td>\n",
       "      <td>NaN</td>\n",
       "      <td>01.01.2005 - 31.12.2008</td>\n",
       "      <td>2006</td>\n",
       "      <td>30. Sitzung Stadtparlament</td>\n",
       "      <td>2006-11-28</td>\n",
       "      <td>Öffentlich</td>\n",
       "      <td>Waaghaus</td>\n",
       "      <td>NaN</td>\n",
       "      <td>...</td>\n",
       "      <td>Stadtparlament: Interpellationen</td>\n",
       "      <td>NaN</td>\n",
       "      <td>2006-11-28</td>\n",
       "      <td>Protokoll StParl 28.11.2006</td>\n",
       "      <td>Interpellation Thomas Schwager: Massnahmenplan...</td>\n",
       "      <td>NaN</td>\n",
       "      <td>behandelt</td>\n",
       "      <td>6.0</td>\n",
       "      <td>e233e6d6c9124f0e920f226db79f3124</td>\n",
       "      <td>e7a2cc47dc6c4a28a37408430fbb3861</td>\n",
       "    </tr>\n",
       "    <tr>\n",
       "      <th>2</th>\n",
       "      <td>2006-11-28T00:00:00.000-2</td>\n",
       "      <td>02fa0fc0d010458db69ae0b3bfa0fc23</td>\n",
       "      <td>NaN</td>\n",
       "      <td>01.01.2005 - 31.12.2008</td>\n",
       "      <td>2006</td>\n",
       "      <td>30. Sitzung Stadtparlament</td>\n",
       "      <td>2006-11-28</td>\n",
       "      <td>Öffentlich</td>\n",
       "      <td>Waaghaus</td>\n",
       "      <td>NaN</td>\n",
       "      <td>...</td>\n",
       "      <td>NaN</td>\n",
       "      <td>NaN</td>\n",
       "      <td>2006-11-28</td>\n",
       "      <td>Protokoll StParl 28.11.2006</td>\n",
       "      <td>Energieversorgung Stadion / Einkaufszentrum We...</td>\n",
       "      <td>NaN</td>\n",
       "      <td>behandelt</td>\n",
       "      <td>2.0</td>\n",
       "      <td>636e379219164de0b5c766aad9e07936</td>\n",
       "      <td>0e42ce9327ac47ecadb2d6f0e09ddb72</td>\n",
       "    </tr>\n",
       "    <tr>\n",
       "      <th>3</th>\n",
       "      <td>2017-10-24T00:00:00.000-12</td>\n",
       "      <td>03d66ee79146403394935bb0b5957fe6</td>\n",
       "      <td>https://www.stadt.sg.ch/home/verwaltung-politi...</td>\n",
       "      <td>01.01.2017 - 31.12.2020</td>\n",
       "      <td>2017</td>\n",
       "      <td>11. Sitzung Stadtparlament Aufräumsitzung</td>\n",
       "      <td>2017-10-24</td>\n",
       "      <td>Öffentlich</td>\n",
       "      <td>NaN</td>\n",
       "      <td>16:00</td>\n",
       "      <td>...</td>\n",
       "      <td>Stadtparlament: Interpellationen</td>\n",
       "      <td>NaN</td>\n",
       "      <td>2017-10-30</td>\n",
       "      <td>Beschlussprotokoll Stadtparlament 24.10.2017 i...</td>\n",
       "      <td>Interpellation Jennifer Deuel und Karl Schimke...</td>\n",
       "      <td>DBF</td>\n",
       "      <td>behandelt</td>\n",
       "      <td>12.0</td>\n",
       "      <td>cd288811f98e428d92a9b622f481303c</td>\n",
       "      <td>d354a67336c847b1a78a86e375f07b12</td>\n",
       "    </tr>\n",
       "    <tr>\n",
       "      <th>4</th>\n",
       "      <td>2017-10-24T00:00:00.000-4</td>\n",
       "      <td>03d66ee79146403394935bb0b5957fe6</td>\n",
       "      <td>https://www.stadt.sg.ch/home/verwaltung-politi...</td>\n",
       "      <td>01.01.2017 - 31.12.2020</td>\n",
       "      <td>2017</td>\n",
       "      <td>11. Sitzung Stadtparlament Aufräumsitzung</td>\n",
       "      <td>2017-10-24</td>\n",
       "      <td>Öffentlich</td>\n",
       "      <td>NaN</td>\n",
       "      <td>16:00</td>\n",
       "      <td>...</td>\n",
       "      <td>NaN</td>\n",
       "      <td>NaN</td>\n",
       "      <td>2017-10-30</td>\n",
       "      <td>Beschlussprotokoll Stadtparlament 24.10.2017 i...</td>\n",
       "      <td>Fuss- und Veloverkehr, Sofortmassnahmen (2018 ...</td>\n",
       "      <td>LBK</td>\n",
       "      <td>behandelt</td>\n",
       "      <td>4.0</td>\n",
       "      <td>ac6bcd93e9a94bdd9e6e49562bbf0a6f</td>\n",
       "      <td>67ebed60a3534c04b760be80c71f53b9</td>\n",
       "    </tr>\n",
       "  </tbody>\n",
       "</table>\n",
       "<p>5 rows × 36 columns</p>\n",
       "</div>"
      ],
      "text/plain": [
       "                           nr                       Sitzungs_ID  \\\n",
       "0   2014-05-06T00:00:00.000-2  00731bb5b58e4aa0a731370c10e23550   \n",
       "1   2006-11-28T00:00:00.000-6  02fa0fc0d010458db69ae0b3bfa0fc23   \n",
       "2   2006-11-28T00:00:00.000-2  02fa0fc0d010458db69ae0b3bfa0fc23   \n",
       "3  2017-10-24T00:00:00.000-12  03d66ee79146403394935bb0b5957fe6   \n",
       "4   2017-10-24T00:00:00.000-4  03d66ee79146403394935bb0b5957fe6   \n",
       "\n",
       "                                    Link zur Sitzung               Legislatur  \\\n",
       "0  https://www.stadt.sg.ch/home/verwaltung-politi...  01.01.2013 - 31.12.2016   \n",
       "1                                                NaN  01.01.2005 - 31.12.2008   \n",
       "2                                                NaN  01.01.2005 - 31.12.2008   \n",
       "3  https://www.stadt.sg.ch/home/verwaltung-politi...  01.01.2017 - 31.12.2020   \n",
       "4  https://www.stadt.sg.ch/home/verwaltung-politi...  01.01.2017 - 31.12.2020   \n",
       "\n",
       "   Jahr                                Bezeichnung Sitzungsdatum    Freigabe  \\\n",
       "0  2014                 16. Sitzung Stadtparlament    2014-05-06  Öffentlich   \n",
       "1  2006                 30. Sitzung Stadtparlament    2006-11-28  Öffentlich   \n",
       "2  2006                 30. Sitzung Stadtparlament    2006-11-28  Öffentlich   \n",
       "3  2017  11. Sitzung Stadtparlament Aufräumsitzung    2017-10-24  Öffentlich   \n",
       "4  2017  11. Sitzung Stadtparlament Aufräumsitzung    2017-10-24  Öffentlich   \n",
       "\n",
       "        Ort   Zeit  ...                  Aktenplan Ebene5 Aktenplan Ebene6  \\\n",
       "0  Waaghaus  16:00  ...                               NaN              NaN   \n",
       "1  Waaghaus    NaN  ...  Stadtparlament: Interpellationen              NaN   \n",
       "2  Waaghaus    NaN  ...                               NaN              NaN   \n",
       "3       NaN  16:00  ...  Stadtparlament: Interpellationen              NaN   \n",
       "4       NaN  16:00  ...                               NaN              NaN   \n",
       "\n",
       "  Dokumentendatum                                    Dokumententitel  \\\n",
       "0      2014-05-13               Protokoll Stadtparlament 6. Mai 2014   \n",
       "1      2006-11-28                        Protokoll StParl 28.11.2006   \n",
       "2      2006-11-28                        Protokoll StParl 28.11.2006   \n",
       "3      2017-10-30  Beschlussprotokoll Stadtparlament 24.10.2017 i...   \n",
       "4      2017-10-30  Beschlussprotokoll Stadtparlament 24.10.2017 i...   \n",
       "\n",
       "                                     Traktandentitel Vorberatende Kommission  \\\n",
       "0   Neubau des Doppelkindergartens Oberzilstrasse 11                     DBP   \n",
       "1  Interpellation Thomas Schwager: Massnahmenplan...                     NaN   \n",
       "2  Energieversorgung Stadion / Einkaufszentrum We...                     NaN   \n",
       "3  Interpellation Jennifer Deuel und Karl Schimke...                     DBF   \n",
       "4  Fuss- und Veloverkehr, Sofortmassnahmen (2018 ...                     LBK   \n",
       "\n",
       "  Traktandenstatus Traktandennummer                    Geschaeft_GUID  \\\n",
       "0        behandelt              2.0  00e39bd219f34918a9cbc202682fd945   \n",
       "1        behandelt              6.0  e233e6d6c9124f0e920f226db79f3124   \n",
       "2        behandelt              2.0  636e379219164de0b5c766aad9e07936   \n",
       "3        behandelt             12.0  cd288811f98e428d92a9b622f481303c   \n",
       "4        behandelt              4.0  ac6bcd93e9a94bdd9e6e49562bbf0a6f   \n",
       "\n",
       "                    Traktandum_GUID  \n",
       "0  b79087c371a84e198ef60fd4865e3325  \n",
       "1  e7a2cc47dc6c4a28a37408430fbb3861  \n",
       "2  0e42ce9327ac47ecadb2d6f0e09ddb72  \n",
       "3  d354a67336c847b1a78a86e375f07b12  \n",
       "4  67ebed60a3534c04b760be80c71f53b9  \n",
       "\n",
       "[5 rows x 36 columns]"
      ]
     },
     "execution_count": 15,
     "metadata": {},
     "output_type": "execute_result"
    }
   ],
   "source": [
    "df = pd.read_csv(download_filename,sep=';')\n",
    "df.head()"
   ]
  },
  {
   "cell_type": "markdown",
   "id": "cccffa92-c2a7-4369-a784-5c8856a9fabd",
   "metadata": {},
   "source": [
    "Die ID in AllDocsser ist die `Geschaeft_GUID`:"
   ]
  },
  {
   "cell_type": "code",
   "execution_count": 39,
   "id": "1adc21e7-5fd7-4aa8-86eb-1031f0b5ce24",
   "metadata": {},
   "outputs": [
    {
     "data": {
      "text/plain": [
       "False"
      ]
     },
     "execution_count": 16,
     "metadata": {},
     "output_type": "execute_result"
    }
   ],
   "source": [
    "df.Sitzungs_ID.map(lambda s: 'c3070ef262404e1e8069112dd2d15d1b' in s).any()"
   ]
  },
  {
   "cell_type": "code",
   "execution_count": 40,
   "id": "c55a5ad7-1b70-4cc9-8bf4-65af38ed79b2",
   "metadata": {},
   "outputs": [
    {
     "data": {
      "text/plain": [
       "True"
      ]
     },
     "execution_count": 17,
     "metadata": {},
     "output_type": "execute_result"
    }
   ],
   "source": [
    "df.Geschaeft_GUID.dropna().map(lambda s: 'c3070ef262404e1e8069112dd2d15d1b' in s).any()"
   ]
  },
  {
   "cell_type": "code",
   "execution_count": 41,
   "id": "5c2c1149-79c9-469c-bb90-7f28d214c020",
   "metadata": {},
   "outputs": [
    {
     "data": {
      "text/plain": [
       "'Sanierung von zwei Kindergärten und zwei Doppelkindergärten; Rahmenkredit'"
      ]
     },
     "execution_count": 18,
     "metadata": {},
     "output_type": "execute_result"
    }
   ],
   "source": [
    "dftrain.X1.iloc[0]"
   ]
  },
  {
   "cell_type": "code",
   "execution_count": 42,
   "id": "1ad1ae88-2279-4772-a608-446d7164b989",
   "metadata": {},
   "outputs": [],
   "source": [
    "def find_titel(df,titel):\n",
    "    LA = df.Traktandentitel.dropna().map(lambda s: titel in s)\n",
    "    return LA[LA].index"
   ]
  },
  {
   "cell_type": "code",
   "execution_count": 43,
   "id": "e04b45e9-4388-4f04-a857-705e26c086c8",
   "metadata": {},
   "outputs": [
    {
     "name": "stdout",
     "output_type": "stream",
     "text": [
      "Der Titel\n",
      "<<<<Überbauungsplan und Zonenplanänderung \"Fisba Optik\">>>\n",
      "findet sich in diesen Dokumenten: [550]\n"
     ]
    }
   ],
   "source": [
    "titel = dftrain.X1.iloc[0]\n",
    "def Finde_DokumentInfo(df,titel,verbose=False):\n",
    "    indices = find_titel(df,titel)\n",
    "    if verbose and indices.size>0:\n",
    "        print(f'Der Titel\\n<<<<{titel}>>>\\nfindet sich in diesen Dokumenten: {indices.tolist()}')\n",
    "    return indices\n",
    "indices = Finde_DokumentInfo(df,dftrain.X1.iloc[11],verbose=True)"
   ]
  },
  {
   "cell_type": "code",
   "execution_count": 44,
   "id": "b474c51f-dca4-428b-baa7-eb34e5c57999",
   "metadata": {},
   "outputs": [
    {
     "data": {
      "text/plain": [
       "550    4a27f52eb0f34190b3d1701d3afd1dc8\n",
       "Name: Geschaeft_GUID, dtype: object"
      ]
     },
     "execution_count": 21,
     "metadata": {},
     "output_type": "execute_result"
    }
   ],
   "source": [
    "df.loc[indices].Geschaeft_GUID"
   ]
  },
  {
   "cell_type": "code",
   "execution_count": 45,
   "id": "c46070aa-5d28-4253-9346-cc01cea0279f",
   "metadata": {},
   "outputs": [
    {
     "data": {
      "text/plain": [
       "Int64Index([], dtype='int64')"
      ]
     },
     "execution_count": 22,
     "metadata": {},
     "output_type": "execute_result"
    }
   ],
   "source": [
    "#Kann natürlich auch passieren:\n",
    "indices = Finde_DokumentInfo(df,'gibtsnicht')\n",
    "indices"
   ]
  },
  {
   "cell_type": "code",
   "execution_count": 46,
   "id": "daaef7c5-c0c1-4273-806a-e3ce535c6a92",
   "metadata": {},
   "outputs": [],
   "source": [
    "neue_spalte = []\n",
    "for irow,row in dftrain.iterrows():\n",
    "    indices = Finde_DokumentInfo(df,row.X1)\n",
    "    GUIDs = df.loc[indices].Geschaeft_GUID.unique().tolist()\n",
    "    neue_spalte.append(GUIDs)"
   ]
  },
  {
   "cell_type": "code",
   "execution_count": 47,
   "id": "faa14a74-8e4e-4dcf-8b25-49deff378c5d",
   "metadata": {},
   "outputs": [
    {
     "data": {
      "text/plain": [
       "['27f6ffb80dfc412c8014cc4b72b65d19']"
      ]
     },
     "execution_count": 24,
     "metadata": {},
     "output_type": "execute_result"
    }
   ],
   "source": [
    "GUIDs"
   ]
  },
  {
   "cell_type": "code",
   "execution_count": 48,
   "id": "acd8b067-ec57-4eb5-a841-38def9af0363",
   "metadata": {},
   "outputs": [],
   "source": [
    "neue_spalte = pd.Series(neue_spalte,index=dftrain.index,name='GUIDs')"
   ]
  },
  {
   "cell_type": "code",
   "execution_count": 49,
   "id": "9b46ff6a-60bd-498f-90bc-92731bdab9d0",
   "metadata": {},
   "outputs": [
    {
     "data": {
      "image/png": "[encoded data removed]",
      "text/plain": [
       "<Figure size 432x288 with 1 Axes>"
      ]
     },
     "metadata": {
      "needs_background": "light"
     },
     "output_type": "display_data"
    }
   ],
   "source": [
    "neue_spalte.map(len).hist();"
   ]
  },
  {
   "cell_type": "markdown",
   "id": "e86dc37c-4a18-4019-ac8e-bc5706c51804",
   "metadata": {},
   "source": [
    "Weil es offensichtlich Geschäfte mit mehreren Dokumenten gibt, können wir die GUIDs nicht als einzelnen String ablegen. "
   ]
  },
  {
   "cell_type": "code",
   "execution_count": 50,
   "id": "5be33a6c-1b2c-40cc-b821-e0c63fcf75db",
   "metadata": {},
   "outputs": [
    {
     "data": {
      "text/html": [
       "<div>\n",
       "<style scoped>\n",
       "    .dataframe tbody tr th:only-of-type {\n",
       "        vertical-align: middle;\n",
       "    }\n",
       "\n",
       "    .dataframe tbody tr th {\n",
       "        vertical-align: top;\n",
       "    }\n",
       "\n",
       "    .dataframe thead th {\n",
       "        text-align: right;\n",
       "    }\n",
       "</style>\n",
       "<table border=\"1\" class=\"dataframe\">\n",
       "  <thead>\n",
       "    <tr style=\"text-align: right;\">\n",
       "      <th></th>\n",
       "      <th>X1</th>\n",
       "      <th>y</th>\n",
       "      <th>GUIDs</th>\n",
       "    </tr>\n",
       "    <tr>\n",
       "      <th>Id</th>\n",
       "      <th></th>\n",
       "      <th></th>\n",
       "      <th></th>\n",
       "    </tr>\n",
       "  </thead>\n",
       "  <tbody>\n",
       "    <tr>\n",
       "      <th>0</th>\n",
       "      <td>Sanierung von zwei Kindergärten und zwei Doppe...</td>\n",
       "      <td>5</td>\n",
       "      <td>[5c5d97cb5d504af49081116941868858]</td>\n",
       "    </tr>\n",
       "    <tr>\n",
       "      <th>1</th>\n",
       "      <td>Erweiterung der Freihandbibliothek an der Kath...</td>\n",
       "      <td>3</td>\n",
       "      <td>[26df226758334cb5bd353a3ddd6fb565]</td>\n",
       "    </tr>\n",
       "    <tr>\n",
       "      <th>2</th>\n",
       "      <td>Wahl einer nichtständigen Kommission zur Vorbe...</td>\n",
       "      <td>10</td>\n",
       "      <td>[81554756428a40b69f08b73849e97642]</td>\n",
       "    </tr>\n",
       "    <tr>\n",
       "      <th>3</th>\n",
       "      <td>St.Gallen – Felsenstrasse; Kappellenstrasse bi...</td>\n",
       "      <td>10</td>\n",
       "      <td>[7fbf9d1b99f94cf0bc1f2a72778b2032]</td>\n",
       "    </tr>\n",
       "    <tr>\n",
       "      <th>4</th>\n",
       "      <td>Schutzverordnung Goldachtobel</td>\n",
       "      <td>12</td>\n",
       "      <td>[a7cf239d72ff4cf6bc5853e54df8492d]</td>\n",
       "    </tr>\n",
       "  </tbody>\n",
       "</table>\n",
       "</div>"
      ],
      "text/plain": [
       "                                                   X1   y  \\\n",
       "Id                                                          \n",
       "0   Sanierung von zwei Kindergärten und zwei Doppe...   5   \n",
       "1   Erweiterung der Freihandbibliothek an der Kath...   3   \n",
       "2   Wahl einer nichtständigen Kommission zur Vorbe...  10   \n",
       "3   St.Gallen – Felsenstrasse; Kappellenstrasse bi...  10   \n",
       "4                       Schutzverordnung Goldachtobel  12   \n",
       "\n",
       "                                 GUIDs  \n",
       "Id                                      \n",
       "0   [5c5d97cb5d504af49081116941868858]  \n",
       "1   [26df226758334cb5bd353a3ddd6fb565]  \n",
       "2   [81554756428a40b69f08b73849e97642]  \n",
       "3   [7fbf9d1b99f94cf0bc1f2a72778b2032]  \n",
       "4   [a7cf239d72ff4cf6bc5853e54df8492d]  "
      ]
     },
     "execution_count": 27,
     "metadata": {},
     "output_type": "execute_result"
    }
   ],
   "source": [
    "dftrain['GUIDs']=neue_spalte\n",
    "dftrain.head()"
   ]
  },
  {
   "cell_type": "code",
   "execution_count": 64,
   "id": "ec5e6624-014d-476b-93b2-51c218da9628",
   "metadata": {},
   "outputs": [],
   "source": [
    "import codecs\n",
    "def holeTextDateien(GUIDListe):\n",
    "    Textdateien = set()\n",
    "    for GUID in GUIDListe:\n",
    "        filelist = glob(f'{Text_Pfad}{GUID}\\*.txt')\n",
    "        Textdateien|=set(filelist) #Elemente einer Menge hinzufügen\n",
    "    return Textdateien\n",
    "def holeText(GUIDListe):\n",
    "    Textdateien = holeTextDateien(GUIDListe)\n",
    "    textlist = []\n",
    "    for Textdatei in Textdateien:\n",
    "        try:\n",
    "            with codecs.open(Textdatei,'r',encoding='utf-8') as fh:\n",
    "                lines = fh.readlines()\n",
    "            textlist.append(' '.join(lines))\n",
    "        except FileNotFoundError as err:\n",
    "            continue\n",
    "    return textlist"
   ]
  },
  {
   "cell_type": "code",
   "execution_count": null,
   "id": "dfbaa442-c1da-4bba-8a05-70c8f59b1ea1",
   "metadata": {},
   "outputs": [
    {
     "data": {
      "text/plain": [
       "{1, 2, 3}"
      ]
     },
     "execution_count": 29,
     "metadata": {},
     "output_type": "execute_result"
    }
   ],
   "source": [
    "#Beispiel zu obiger Mengensyntax:\n",
    "x={1,2}\n",
    "x|={3}\n",
    "x"
   ]
  },
  {
   "cell_type": "code",
   "execution_count": null,
   "id": "2de0cc90-f2df-4feb-a02a-9c9cbeb6cf27",
   "metadata": {},
   "outputs": [
    {
     "data": {
      "text/plain": [
       "['5c5d97cb5d504af49081116941868858']"
      ]
     },
     "execution_count": 30,
     "metadata": {},
     "output_type": "execute_result"
    }
   ],
   "source": [
    "dftrain.GUIDs.iloc[0]"
   ]
  },
  {
   "cell_type": "code",
   "execution_count": 67,
   "id": "40ef7bde-f035-48d3-b184-940697bd5037",
   "metadata": {},
   "outputs": [
    {
     "ename": "NameError",
     "evalue": "name 'GUID' is not defined",
     "output_type": "error",
     "traceback": [
      "\u001b[1;31m---------------------------------------------------------------------------\u001b[0m",
      "\u001b[1;31mNameError\u001b[0m                                 Traceback (most recent call last)",
      "\u001b[1;32m~\\AppData\\Local\\Temp/ipykernel_17076/3521409785.py\u001b[0m in \u001b[0;36m<module>\u001b[1;34m\u001b[0m\n\u001b[0;32m      1\u001b[0m \u001b[1;32mimport\u001b[0m \u001b[0mcodecs\u001b[0m\u001b[1;33m\u001b[0m\u001b[1;33m\u001b[0m\u001b[0m\n\u001b[1;32m----> 2\u001b[1;33m \u001b[1;32mwith\u001b[0m \u001b[0mcodecs\u001b[0m\u001b[1;33m.\u001b[0m\u001b[0mopen\u001b[0m\u001b[1;33m(\u001b[0m\u001b[0mglob\u001b[0m\u001b[1;33m(\u001b[0m\u001b[1;34mf'{Text_Pfad}{GUID}\\*.txt'\u001b[0m\u001b[1;33m)\u001b[0m\u001b[1;33m[\u001b[0m\u001b[1;36m0\u001b[0m\u001b[1;33m]\u001b[0m\u001b[1;33m,\u001b[0m\u001b[0mencoding\u001b[0m\u001b[1;33m=\u001b[0m\u001b[1;34m'utf-8'\u001b[0m\u001b[1;33m)\u001b[0m \u001b[1;32mas\u001b[0m \u001b[0mfh\u001b[0m\u001b[1;33m:\u001b[0m\u001b[1;33m\u001b[0m\u001b[1;33m\u001b[0m\u001b[0m\n\u001b[0m\u001b[0;32m      3\u001b[0m     \u001b[0mlines\u001b[0m \u001b[1;33m=\u001b[0m \u001b[0mfh\u001b[0m\u001b[1;33m.\u001b[0m\u001b[0mreadlines\u001b[0m\u001b[1;33m(\u001b[0m\u001b[1;33m)\u001b[0m\u001b[1;33m\u001b[0m\u001b[1;33m\u001b[0m\u001b[0m\n\u001b[0;32m      4\u001b[0m \u001b[0mlines\u001b[0m\u001b[1;33m\u001b[0m\u001b[1;33m\u001b[0m\u001b[0m\n",
      "\u001b[1;31mNameError\u001b[0m: name 'GUID' is not defined"
     ]
    }
   ],
   "source": [
    "import codecs\n",
    "with codecs.open(glob(f'C:\\Temp\\Stadt_SG\\extracts\\{GUID}\\*.txt')[0],encoding='utf-8') as fh:\n",
    "    lines = fh.readlines()\n",
    "lines"
   ]
  },
  {
   "cell_type": "code",
   "execution_count": 68,
   "id": "86f22b95-58c3-455b-83ca-214a2b5f3efd",
   "metadata": {},
   "outputs": [
    {
     "name": "stdout",
     "output_type": "stream",
     "text": [
      "5c5d97cb5d504af49081116941868858\n"
     ]
    },
    {
     "data": {
      "text/plain": [
       "['C:\\\\Temp\\\\Stadt_SG\\\\extracts\\\\5c5d97cb5d504af49081116941868858\\\\Beilage Rahmenkredit Kindergärten 2. Paket 24.08.2020 #1.txt',\n",
       " 'C:\\\\Temp\\\\Stadt_SG\\\\extracts\\\\5c5d97cb5d504af49081116941868858\\\\Sanierung von zwei Kindergärten und zwei Doppelkindergärten; Rahmenkredit 25.06.2020 #0.txt']"
      ]
     },
     "execution_count": 70,
     "metadata": {},
     "output_type": "execute_result"
    }
   ],
   "source": [
    "GUID=dftrain.GUIDs.iloc[0][0]\n",
    "print(GUID)\n",
    "glob(f'C:\\Temp\\Stadt_SG\\extracts\\{GUID}\\*.txt')"
   ]
  },
  {
   "cell_type": "code",
   "execution_count": 43,
   "id": "4ea668ce-6b08-469a-88f7-be62920aa10b",
   "metadata": {},
   "outputs": [
    {
     "data": {
      "text/plain": [
       "[\" Vorlage Stadtparlament Datum 1. September 2020 Beschluss Nr. 4565 Aktenplan 211.15 Kindergärten Sanierung von zwei Kindergärten und zwei Doppelkindergärten; Rahmenkredit Antrag Wir beantragen Ihnen, folgenden Beschluss zu fassen: 1. Der Sanierung von vier Kindergärten (Isenringweg 7, Achslenweg 10, Dreilindenhang 30, Wald- gutstrasse 6a) wird zugestimmt und dafür ein Rahmenkredit von CHF 2'400'000 erteilt. 2. Es wird festgestellt, dass dieser Beschluss nach Art.8 Ziff. 6 lit. a der Gemeindeordnung dem fakulta- tiven Referendum untersteht. 1 Ausgangslage Im Jahre 2013 haben das Schulamt (heute Dienststelle Schule und Musik) und das Hochbauamt den betrieblichen und baulichen Zustand aller städtischen Kindergärten untersucht und beurteilt. Die bauli- che Analyse ergab, dass sich acht Kindergärten in einem baulich schlechten Zustand befinden. Am 23. Februar 2017 legte der Stadtrat dem Stadtparlament eine Vorlage für einen Rahmenkredit im Umfang von CHF 5,1 Mio. für die Sanierung dieser acht Kindergärten vor (Vorlage des Stadtrats Nr. 214). In Abänderung der Vorlage erteilte das Stadtparlament am 2. Mai 2017 für die Sanierung von vier Kindergärten, nämlich für diejenigen an der Flurhofstrasse 74, der Wiesentalstrasse 23, am Hinter- berg 61 und im Boppartshof 1+3 einen Rahmenkredit von CHF 2‘940‘000. Die Sanierung dieser vier Kindergärten konnte im Frühling 2020 abgeschlossen werden. Die definitive Abrechnung der Sanie- rungsarbeiten steht noch aus, es ist jedoch bereits absehbar, dass mit einer Kreditunterschreitung von mindestens CHF 240’000 abgerechnet werden kann. Nun steht die Sanierung der weiteren vier Kindergärten an, nämlich derjenigen am Isenringweg 7, am Achslenweg 10 (Doppelkindergarten), am Dreilindenhang 30 und an der Waldgutstrasse 6a (Doppelkin- dergarten). Die Ausgangslage für die Ertüchtigung dieser vier Kindergärten ist vergleichbar mit derjeni- gen der bereits im Rahmen des ersten Rahmenkredits sanierten Kindergärten. Die Bauten stammen allesamt aus den 1950er- und 1960er-Jahren und sind energetisch in einem entsprechend schlechten Zustand. Neben umfassenden baulichen Massnahmen zur energetischen Ertüchtigung sind auch be- triebliche Optimierungen geplant. 2 Projekte Die vier Kindergartengebäude gelten noch heute als gestalterisch gelungene und typische Zeugen ihrer Bauzeit. Mit der Behebung der energetischen Schwachstellen und der Verbesserung einiger funktiona- ler Mängel können die Gebäude für eine weitere Nutzungsphase fit gemacht werden. 2.1 Kindergarten Isenringweg 7 Das Kindergartengebäude am Isenringweg 7 stammt aus dem Jahre 1955 und befindet sich grundsätz- lich in einem guten Zustand. An der Bausubstanz wurden in den letzten Jahrzehnten indes kaum Verän- derungen vorgenommen. Diverse Konstruktionen entsprechen nicht mehr dem Stand der Bautechnik. Die Elektroinstallationen (inkl. Beleuchtung) und die Wärmeerzeugung (Anschluss an Fernwärmenetz) wurden in den letzten Jahren erneuert, die Sanitärinstallationen und die Wärmeverteilung stammen noch aus dem Baujahr. Sowohl die Aussenwände als auch das Dach sind ungenügend oder teilweise gar nicht wärmege- dämmt. Die Fenster aus der Bauzeit befinden sich zwar in einem relativ guten Zustand, vermögen je- doch die heutigen energetischen Anforderungen an Fenster nicht mehr zu befriedigen. Mit einer Innen- dämmung, einer Dämmung des Daches sowie einem Komplettersatz der Fenster können die wesentlichen energetischen Mängel behoben werden. Der Bodenbelag in den Kindergartenräumen wird ersetzt und die Behaglichkeit durch den Einbau einer Korktrennschicht verbessert. Der Kindergarten weist heute gegenüber dem Richtraumprogramm eine zu kleine Nutzfläche auf, die Garderobe wurde behelfsmässig mit einer kleinen Teeküche verstellt, das Zähneputzen findet in der be- engten WC-Anlage statt. Mit dem Einzug eines Zwischenbodens über der Garderobe wird zusätzliche Verweilfläche für die Kinder geschaffen. Im Kindergartenraum wird eine den heutigen Ansprüchen ent- sprechende Teeküche eingebaut. Der Garderobenraum wird mit einem Schulwandbrunnen (Zähneput- zen) ergänzt. Im Zuge der Dachsanierung wird die Raumakustik den heutigen Ansprüchen entspre- chend ertüchtigt. 2.2 Doppelkindergarten Achslenweg 10 Der Doppelkindergarten Achslenweg 10 stammt aus dem Jahr 1961 und weist dementsprechend ver- schiedene energetische Mängel auf. Im Jahr 2000 wurde unter dem gedeckten Eingangsbereich be- helfsmässig ein Küchenraum erstellt. Diese Raumerweiterung ist energetisch wie auch organisatorisch nicht befriedigend. 2019 wurde die Wärmerzeugung erneuert. Das Gebäude bietet sich dank seiner ebenerdigen Erschliessung als hindernisfreier Kindergarten an; eine rollstuhlgerechte Toilette fehlt je- doch. Neben den energetisch mangelhaften Fenstern und Türen weisen auch die Aussenwände, der Boden sowie das Dach keine bis lediglich eine ungenügende Wärmedämmung auf. Mit einer neuen Innendäm- mung, einer kompletten Dämmung des Dachs, dem Einbau einer zusätzlichen Korktrennschicht bei den Bodenbelägen sowie einem Komplettersatz der Fenster und Türen können die energetischen Mängel behoben werden. Die 2019 ersetzte Wärmeerzeugung wird für den Moment beibehalten, da das Gebiet mittelfristig an das Fernwärmenetz angeschlossen wird. Die Raumorganisation im Eingangs- resp. Garderobenbereich wird bereinigt und mit einer neuen Tee- küche ergänzt. Eine Teilfläche des grosszügigen Dachstocks wird als erweiterter Unterrichtsraum nutz- bar gemacht. Die Toilettensituation im Erdgeschoss wird korrigiert und mit einem hindernisfreien WC Seite 2/7 ergänzt. Die ungenügende Beleuchtung wird durch eine neue LED-Beleuchtung ersetzt. Im Zuge der energetischen Sanierung des Daches wird auch die Raumakustik verbessert. 2.3 Kindergarten Dreilindenhang 30 Organisatorisch und gestalterisch weist der Kindergarten Dreilindenhang 30 aus dem Jahr 1963 wenig Handlungsbedarf auf. Einzig das freistehende Kochfeld im Garderobenbereich entspricht nicht den heu- tigen Anforderungen und muss korrigiert werden. Energetisch bestehen auch bei diesem Kindergarten grosse Mängel. Das asbesthaltige Fassaden-Eternit ist teils stark beschädigt. Die Heizungs-, Sanitär- und Elektroinstallationen entsprechen nicht mehr den heutigen Anforderungen. Die komplette Aussenhülle (Dach, Aussenwände, Fenster) muss energetisch saniert, das asbesthaltige Eternit ersetzt werden. Im Zuge dieser Gebäudehüllensanierung wird die bestehende Ölheizung durch eine Wärmepumpe mit Erdsonde ersetzt. Das freistehende Kochfeld im Garderobenbereich wird durch eine neue Teeküche im Kindergartenraum ersetzt. Die ungenügende Beleuchtung wird durch eine zeitgemässe LED-Beleuchtung ausgetauscht. Die Akustik wird im Zuge der energetischen Sanierung verbessert. 2.4 Doppelkindergarten Waldgutstrasse 6a Am Layout des 1962 erbauten Doppelkindergartens Waldgutstrasse 6a besteht, abgesehen vom Ein- bau einer kleinen Teeküche, kein Handlungsbedarf. Energetisch weist der Kindergarten jedoch erhebli- che Mängel auf. Die Wärmeerzeugung und -verteilung wie auch alle Sanitär- und Elektroinstallationen inklusive der Beleuchtung sind am Ende ihres Lebenszyklus angelangt. Böden und Wände werden energetisch saniert und die Fenster ersetzt. Da der Fassadenputz in einem guten Zustand ist, wird eine Dämmung von Innen angebracht; dies hat ein rasches Aufwärm- und Ab- kühlverhalten zur Folge, was für einen Kindergartenbetrieb durchaus sinnvoll ist. Die Wärmeerzeugung wird durch eine neue Wärmepumpe mit Erdsonde ersetzt. Der Bodenbelag in den Kindergartenräumen wird erneuert und mit einer zusätzlichen Korktrennschicht ergänzt. Die bestehenden Puppenecken werden umgenutzt und mit einer Teeküche ergänzt. An den Staumö- beln werden kleinere Anpassungen vorgenommen. 2.5 Photovoltaik Wie der Postulatsbericht «Strategie für den Ausbau der Photovoltaik» vom 26. Mai 2020 (Vorlage des Stadtrats Nr. 4207) festhält, können die St.Galler Stadtwerke sgsw künftig Anlagen mit weniger als 50 kWp Leistung realisieren. Finanziert wird die Photovoltaikanlage über den Rahmenkredit der sgsw. Die Erneuerung der Dacheindeckung des Kindergartens Dreilindenhang 30 bietet die Gelegenheit, die Dachfläche für eine Photovoltaikanlage zu nutzen. Der Aufbau von Photovoltaikanlagen auf die Dächer der übrigen drei Kindergärten wird geprüft. Eine Erneuerung der Dacheindeckung dieser Kindergärten ist aus baulichen Gründen spätestens in 15-20 Jahren angezeigt. Seite 3/7 3 Kosten und Finanzierung Gemäss Kostenvoranschlag ist für die Ausführung der Kindergartensanierungen mit Kosten von insge- samt CHF 2’400'000 zu rechnen (Kostenstand Mai 2020/ Genauigkeit +/-10%). Kindergarten Isenringweg 7 CHF 412’000 Doppelkindergarten Achslenweg 10 811’000 Kindergarten Dreilindenhang 30 522’000 Doppelkindergarten Waldgutstrasse 6a 655’000 Total (inkl. 7.7 % MWST) 2'400’000 Die Kosten setzen sich für die einzelnen Kindergärten folgendermassen zusammen: 3.1 Kindergarten Isenringweg 7 BKP Arbeitsgattung CHF 1 Vorbereitungsarbeiten 15’000 2 Gebäude 354’000 21 Rohbau 1 78’000 22 Rohbau 2 88’000 23 Elektroanlagen 12’000 24 Heizungs-, Lüftungs-, Klimaanlagen 3’000 25 Sanitäranlagen 17’000 27 Ausbau 1 73’000 28 Ausbau 2 23’000 29 Honorare 60’000 4 Umgebung 2’000 5 Baunebenkosten 6’000 6 Reserven 37’000 7 Bauherrenleistung 15’000 1-7 Total (inkl. 7.7 % MWST) 429’000 8 Förderbeiträge 17’000 1-8 Total (inkl. 7.7 % MWST) 412’000 3.2 Doppelkindergarten Achslenweg 10 BKP Arbeitsgattung CHF 1 Vorbereitungsarbeiten 21’000 2 Gebäude 703’000 21 Rohbau 1 131’000 22 Rohbau 2 245’000 Seite 4/7 23 Elektroanlagen 58’000 24 Heizungs-, Lüftungs-, Klimaanlagen 10’000 25 Sanitäranlagen 48’000 27 Ausbau 1 53’000 28 Ausbau 2 41’000 29 Honorare 117’000 4 Umgebung 9’000 5 Baunebenkosten 5’000 6 Reserven 73’000 7 Bauherrenleistung 35’000 1-7 Total (inkl. 7.7 % MWST) 846’000 8 Förderbeiträge 35’000 1-8 Total (inkl. 7.7 % MWST) 811’000 3.3 Kindergarten Dreilindenhang 30 BKP Arbeitsgattung CHF 1 Vorbereitungsarbeiten 7’000 2 Gebäude 457’000 21 Rohbau 1 100’000 22 Rohbau 2 123’000 23 Elektroanlagen 34’000 24 Heizungs-, Lüftungs-, Klimaanlagen 44’000 25 Sanitäranlagen 26’000 27 Ausbau 1 35’000 28 Ausbau 2 34’000 29 Honorare 61’000 4 Umgebung 10’000 5 Baunebenkosten 5’000 6 Reserven 48’000 7 Bauherrenleistung 25’000 1-7 Total (inkl. 7.7 % MWST) 552’000 8 Förderbeiträge 30’000 1-9 Total (inkl. 7.7 % MWST) 522’000 3.4 Doppelkindergarten Waldgutstrasse 6a BKP Arbeitsgattung CHF 1 Vorbereitungsarbeiten 32’000 2 Gebäude 558’000 Seite 5/7 21 Rohbau 1 0’000 22 Rohbau 2 94’000 23 Elektroanlagen 42’000 24 Heizungs-, Lüftungs-, Klimaanlagen 78’000 25 Sanitäranlagen 42’000 27 Ausbau 1 21’000 28 Ausbau 2 180’000 29 Honorare 101’000 4 Umgebung 0’000 5 Baunebenkosten 15’000 6 Reserven 60’000 7 Bauherrenleistung 30’000 1-7 Total (inkl. 7.7 % MWST) 695’000 8 Förderbeiträge 40’000 1-9 Total (inkl. 7.7 % MWST) 655’000 3.5 Kostenentwicklung Rahmenkredit In der Investitionsplanung sind für das vorliegende zweite Paket der energetischen Sanierung von Kin- dergärten CHF 2'160'000 eingestellt (Konto Nr. 62.4050.999). Die Kindergärten Dreilindenhang 30 und Waldgutstrasse 6a weisen gegenüber den im Jahr 2017 veranschlagten Kosten (Vorlage des Stadtrats Nr. 214 vom 23. Februar 2017) Mehrkosten von rund CHF 167'000 bzw. CHF 70’000 auf. Beim Kinder- garten Dreilindenhang 30 war zum damaligen Planungsstand noch kein systematischer Ersatz der Aus- senhülle vorgesehen. Mittlerweile durchgeführte detaillierte Bauanalysen haben gezeigt, dass ein Er- satz der gesamten Fassade notwendig ist. Beim Kindergarten an der Waldgutstrasse 6a war damals noch keine Erdsonde eingeplant. Zudem hat sich gezeigt, dass eine Teeküche sehr gut integrierbar und betrieblich sinnvoll ist. Mit Vorlage Nr. 214 vom 23. Februar 2017 hat der Stadtrat dem Stadtparlament für die Sanierung von insgesamt acht Kindergärten einen Rahmenkredit von CHF 5'100'000 beantragt. Das Stadtparlament hat sich mit Beschluss vom 2. Mai 2017 für eine Tranchierung des Rahmenkredits ausgesprochen und für die Sanierung von vier Kindergärten einen ersten Rahmenkredit von CHF 2'940'000 gesprochen. Gemäss provisorischer Abrechnung (Stand Mai 2020) kann der Rahmenkredit für dieses erste Sanie- rungspaket um CHF 240'000 unterschritten werden. Dieser Differenzbetrag soll dem vorliegenden Rah- menkredit (zweites Sanierungspaket) zugutekommen. Der ursprünglich vom Stadtrat beantragte Ge- samtrahmenkredit für die Sanierung sämtlicher acht Kindergärten kann damit eingehalten werden. Seite 6/7 beantragter Gesamtrahmenkredit (Vorlage Nr. 214 vom 27. Februar 2017) CHF 5'100’000 beschlossener Rahmenkredit 1. Paket (2. Mai 2017) 2'940’000 Kostenerwartung 1. Paket (gem. prov. Abrechnung Mai 2020) 2'700’000 Kostenunterschreitung 1. Paket 240’000 Investitionsplanung 2. Paket (Konto Nr. 62.4050.999) 2'160’000 Kostenunterschreitung 1. Paket zugunsten 2. Paket 240’000 Rahmenkredit 2. Paket 2’400’000 4 Termine Die Sanierung der vier Kindergartengebäude ist für die Sommerferien 2021 vorgesehen. Der Stadtpräsident: Thomas Scheitlin Die Stadtschreiber-Stellvertreterin: Carmen Betschart Beilage: ▪ Fotos und Situation Kindergärten Konto: 62.4050.999 Seite 7/7 \",\n",
       " 'Sanierung von vier Kindergärten: Rahmenkredit 2. Paket Situation, Foto Isenringweg 7 Achslenweg 10 Stadt St.Gallen Hochbauamt 1 Sanierung von vier Kindergärten: Rahmenkredit 2. Paket Situation, Foto Dreilindenhang 30 Doppelkindergarten Waldgutstrasse 6a Stadt St.Gallen Hochbauamt 2']"
      ]
     },
     "execution_count": 43,
     "metadata": {},
     "output_type": "execute_result"
    }
   ],
   "source": [
    "holeText(dftrain.GUIDs.iloc[0])"
   ]
  },
  {
   "cell_type": "code",
   "execution_count": 44,
   "id": "aa960b06-a621-4488-87d5-d1dd1a096f7c",
   "metadata": {},
   "outputs": [
    {
     "data": {
      "text/plain": [
       "Id\n",
       "0       {C:\\Temp\\Stadt_SG\\extracts\\5c5d97cb5d504af4908...\n",
       "1       {C:\\Temp\\Stadt_SG\\extracts\\26df226758334cb5bd3...\n",
       "2       {C:\\Temp\\Stadt_SG\\extracts\\81554756428a40b69f0...\n",
       "3       {C:\\Temp\\Stadt_SG\\extracts\\7fbf9d1b99f94cf0bc1...\n",
       "4       {C:\\Temp\\Stadt_SG\\extracts\\a7cf239d72ff4cf6bc5...\n",
       "                              ...                        \n",
       "1199    {C:\\Temp\\Stadt_SG\\extracts\\a8a79292ea104f83aec...\n",
       "1200    {C:\\Temp\\Stadt_SG\\extracts\\ccec1b64359648589f0...\n",
       "1201    {C:\\Temp\\Stadt_SG\\extracts\\d3d7f910e84c4789bfe...\n",
       "1202    {C:\\Temp\\Stadt_SG\\extracts\\3f8bd5b55359488799f...\n",
       "1203    {C:\\Temp\\Stadt_SG\\extracts\\27f6ffb80dfc412c801...\n",
       "Name: GUIDs, Length: 1204, dtype: object"
      ]
     },
     "execution_count": 44,
     "metadata": {},
     "output_type": "execute_result"
    }
   ],
   "source": [
    "dftrain.GUIDs.map(holeTextDateien)"
   ]
  },
  {
   "cell_type": "code",
   "execution_count": 45,
   "id": "39e14491-fd4e-4d6b-a41f-3e0a444f8cd0",
   "metadata": {},
   "outputs": [
    {
     "data": {
      "text/plain": [
       "Text(0.5, 1.0, 'Ich habe nicht alle Dokumente heruntergeladen!')"
      ]
     },
     "execution_count": 45,
     "metadata": {},
     "output_type": "execute_result"
    },
    {
     "data": {
      "image/png": "[encoded data removed]",
      "text/plain": [
       "<Figure size 432x288 with 1 Axes>"
      ]
     },
     "metadata": {
      "needs_background": "light"
     },
     "output_type": "display_data"
    }
   ],
   "source": [
    "dftrain.GUIDs.map(holeText).map(len).hist()\n",
    "plt.title('Ich habe nicht alle Dokumente heruntergeladen!')"
   ]
  },
  {
   "cell_type": "code",
   "execution_count": 46,
   "id": "86d38844-a5c8-44ac-baf3-02fb74419818",
   "metadata": {},
   "outputs": [
    {
     "data": {
      "text/html": [
       "<div>\n",
       "<style scoped>\n",
       "    .dataframe tbody tr th:only-of-type {\n",
       "        vertical-align: middle;\n",
       "    }\n",
       "\n",
       "    .dataframe tbody tr th {\n",
       "        vertical-align: top;\n",
       "    }\n",
       "\n",
       "    .dataframe thead th {\n",
       "        text-align: right;\n",
       "    }\n",
       "</style>\n",
       "<table border=\"1\" class=\"dataframe\">\n",
       "  <thead>\n",
       "    <tr style=\"text-align: right;\">\n",
       "      <th></th>\n",
       "      <th>X1</th>\n",
       "      <th>y</th>\n",
       "      <th>GUIDs</th>\n",
       "    </tr>\n",
       "    <tr>\n",
       "      <th>Id</th>\n",
       "      <th></th>\n",
       "      <th></th>\n",
       "      <th></th>\n",
       "    </tr>\n",
       "  </thead>\n",
       "  <tbody>\n",
       "    <tr>\n",
       "      <th>0</th>\n",
       "      <td>Sanierung von zwei Kindergärten und zwei Doppe...</td>\n",
       "      <td>5</td>\n",
       "      <td>[5c5d97cb5d504af49081116941868858]</td>\n",
       "    </tr>\n",
       "    <tr>\n",
       "      <th>1</th>\n",
       "      <td>Erweiterung der Freihandbibliothek an der Kath...</td>\n",
       "      <td>3</td>\n",
       "      <td>[26df226758334cb5bd353a3ddd6fb565]</td>\n",
       "    </tr>\n",
       "    <tr>\n",
       "      <th>2</th>\n",
       "      <td>Wahl einer nichtständigen Kommission zur Vorbe...</td>\n",
       "      <td>10</td>\n",
       "      <td>[81554756428a40b69f08b73849e97642]</td>\n",
       "    </tr>\n",
       "    <tr>\n",
       "      <th>3</th>\n",
       "      <td>St.Gallen – Felsenstrasse; Kappellenstrasse bi...</td>\n",
       "      <td>10</td>\n",
       "      <td>[7fbf9d1b99f94cf0bc1f2a72778b2032]</td>\n",
       "    </tr>\n",
       "    <tr>\n",
       "      <th>4</th>\n",
       "      <td>Schutzverordnung Goldachtobel</td>\n",
       "      <td>12</td>\n",
       "      <td>[a7cf239d72ff4cf6bc5853e54df8492d]</td>\n",
       "    </tr>\n",
       "  </tbody>\n",
       "</table>\n",
       "</div>"
      ],
      "text/plain": [
       "                                                   X1   y  \\\n",
       "Id                                                          \n",
       "0   Sanierung von zwei Kindergärten und zwei Doppe...   5   \n",
       "1   Erweiterung der Freihandbibliothek an der Kath...   3   \n",
       "2   Wahl einer nichtständigen Kommission zur Vorbe...  10   \n",
       "3   St.Gallen – Felsenstrasse; Kappellenstrasse bi...  10   \n",
       "4                       Schutzverordnung Goldachtobel  12   \n",
       "\n",
       "                                 GUIDs  \n",
       "Id                                      \n",
       "0   [5c5d97cb5d504af49081116941868858]  \n",
       "1   [26df226758334cb5bd353a3ddd6fb565]  \n",
       "2   [81554756428a40b69f08b73849e97642]  \n",
       "3   [7fbf9d1b99f94cf0bc1f2a72778b2032]  \n",
       "4   [a7cf239d72ff4cf6bc5853e54df8492d]  "
      ]
     },
     "execution_count": 46,
     "metadata": {},
     "output_type": "execute_result"
    }
   ],
   "source": [
    "heruntergeladene = dftrain[dftrain.GUIDs.map(holeText).map(len)>0]\n",
    "heruntergeladene.head()"
   ]
  },
  {
   "cell_type": "code",
   "execution_count": 47,
   "id": "c9c793a9-466a-497b-ad95-0a6cb07b02c2",
   "metadata": {},
   "outputs": [],
   "source": [
    "dftrain['Text']=heruntergeladene.GUIDs.map(holeText).map(lambda l:''.join(l))"
   ]
  },
  {
   "cell_type": "code",
   "execution_count": 48,
   "id": "bbec55e0-b264-4cd9-8d4c-f85f2ed62e90",
   "metadata": {},
   "outputs": [
    {
     "data": {
      "text/html": [
       "<div>\n",
       "<style scoped>\n",
       "    .dataframe tbody tr th:only-of-type {\n",
       "        vertical-align: middle;\n",
       "    }\n",
       "\n",
       "    .dataframe tbody tr th {\n",
       "        vertical-align: top;\n",
       "    }\n",
       "\n",
       "    .dataframe thead th {\n",
       "        text-align: right;\n",
       "    }\n",
       "</style>\n",
       "<table border=\"1\" class=\"dataframe\">\n",
       "  <thead>\n",
       "    <tr style=\"text-align: right;\">\n",
       "      <th></th>\n",
       "      <th>X1</th>\n",
       "      <th>y</th>\n",
       "      <th>GUIDs</th>\n",
       "      <th>Text</th>\n",
       "    </tr>\n",
       "    <tr>\n",
       "      <th>Id</th>\n",
       "      <th></th>\n",
       "      <th></th>\n",
       "      <th></th>\n",
       "      <th></th>\n",
       "    </tr>\n",
       "  </thead>\n",
       "  <tbody>\n",
       "    <tr>\n",
       "      <th>0</th>\n",
       "      <td>Sanierung von zwei Kindergärten und zwei Doppe...</td>\n",
       "      <td>5</td>\n",
       "      <td>[5c5d97cb5d504af49081116941868858]</td>\n",
       "      <td>Vorlage Stadtparlament Datum 1. September 202...</td>\n",
       "    </tr>\n",
       "    <tr>\n",
       "      <th>1</th>\n",
       "      <td>Erweiterung der Freihandbibliothek an der Kath...</td>\n",
       "      <td>3</td>\n",
       "      <td>[26df226758334cb5bd353a3ddd6fb565]</td>\n",
       "      <td>C Stadt St.Gallen Stadtrat Vorlage an das Stad...</td>\n",
       "    </tr>\n",
       "    <tr>\n",
       "      <th>2</th>\n",
       "      <td>Wahl einer nichtständigen Kommission zur Vorbe...</td>\n",
       "      <td>10</td>\n",
       "      <td>[81554756428a40b69f08b73849e97642]</td>\n",
       "      <td>GGR-Vorlage Ausgliederung sgsw Beilage 5 Model...</td>\n",
       "    </tr>\n",
       "    <tr>\n",
       "      <th>3</th>\n",
       "      <td>St.Gallen – Felsenstrasse; Kappellenstrasse bi...</td>\n",
       "      <td>10</td>\n",
       "      <td>[7fbf9d1b99f94cf0bc1f2a72778b2032]</td>\n",
       "      <td>St.Georgen-Strass 9 Untere Mühlentreppe Münhel...</td>\n",
       "    </tr>\n",
       "    <tr>\n",
       "      <th>4</th>\n",
       "      <td>Schutzverordnung Goldachtobel</td>\n",
       "      <td>12</td>\n",
       "      <td>[a7cf239d72ff4cf6bc5853e54df8492d]</td>\n",
       "      <td>Schutzverordnung Goldachtobel August 2019 Ges...</td>\n",
       "    </tr>\n",
       "  </tbody>\n",
       "</table>\n",
       "</div>"
      ],
      "text/plain": [
       "                                                   X1   y  \\\n",
       "Id                                                          \n",
       "0   Sanierung von zwei Kindergärten und zwei Doppe...   5   \n",
       "1   Erweiterung der Freihandbibliothek an der Kath...   3   \n",
       "2   Wahl einer nichtständigen Kommission zur Vorbe...  10   \n",
       "3   St.Gallen – Felsenstrasse; Kappellenstrasse bi...  10   \n",
       "4                       Schutzverordnung Goldachtobel  12   \n",
       "\n",
       "                                 GUIDs  \\\n",
       "Id                                       \n",
       "0   [5c5d97cb5d504af49081116941868858]   \n",
       "1   [26df226758334cb5bd353a3ddd6fb565]   \n",
       "2   [81554756428a40b69f08b73849e97642]   \n",
       "3   [7fbf9d1b99f94cf0bc1f2a72778b2032]   \n",
       "4   [a7cf239d72ff4cf6bc5853e54df8492d]   \n",
       "\n",
       "                                                 Text  \n",
       "Id                                                     \n",
       "0    Vorlage Stadtparlament Datum 1. September 202...  \n",
       "1   C Stadt St.Gallen Stadtrat Vorlage an das Stad...  \n",
       "2   GGR-Vorlage Ausgliederung sgsw Beilage 5 Model...  \n",
       "3   St.Georgen-Strass 9 Untere Mühlentreppe Münhel...  \n",
       "4    Schutzverordnung Goldachtobel August 2019 Ges...  "
      ]
     },
     "execution_count": 48,
     "metadata": {},
     "output_type": "execute_result"
    }
   ],
   "source": [
    "dftrain.head() #Ich habe nicht alle Dokumente heruntergeladen- daher ev. in der Textspalte hier nur NaNs sichtbar"
   ]
  },
  {
   "cell_type": "markdown",
   "id": "ed3d3fae-89d8-4131-956d-d5e41a91f1a1",
   "metadata": {},
   "source": [
    "Zeige nur die erfolgreich annotierten GUIDs an:"
   ]
  },
  {
   "cell_type": "code",
   "execution_count": 49,
   "id": "9fc824c2-4578-4c6b-bc78-be0dd44038d2",
   "metadata": {},
   "outputs": [
    {
     "data": {
      "text/html": [
       "<div>\n",
       "<style scoped>\n",
       "    .dataframe tbody tr th:only-of-type {\n",
       "        vertical-align: middle;\n",
       "    }\n",
       "\n",
       "    .dataframe tbody tr th {\n",
       "        vertical-align: top;\n",
       "    }\n",
       "\n",
       "    .dataframe thead th {\n",
       "        text-align: right;\n",
       "    }\n",
       "</style>\n",
       "<table border=\"1\" class=\"dataframe\">\n",
       "  <thead>\n",
       "    <tr style=\"text-align: right;\">\n",
       "      <th></th>\n",
       "      <th>X1</th>\n",
       "      <th>y</th>\n",
       "      <th>GUIDs</th>\n",
       "      <th>Text</th>\n",
       "    </tr>\n",
       "    <tr>\n",
       "      <th>Id</th>\n",
       "      <th></th>\n",
       "      <th></th>\n",
       "      <th></th>\n",
       "      <th></th>\n",
       "    </tr>\n",
       "  </thead>\n",
       "  <tbody>\n",
       "    <tr>\n",
       "      <th>0</th>\n",
       "      <td>Sanierung von zwei Kindergärten und zwei Doppe...</td>\n",
       "      <td>5</td>\n",
       "      <td>[5c5d97cb5d504af49081116941868858]</td>\n",
       "      <td>Vorlage Stadtparlament Datum 1. September 202...</td>\n",
       "    </tr>\n",
       "    <tr>\n",
       "      <th>1</th>\n",
       "      <td>Erweiterung der Freihandbibliothek an der Kath...</td>\n",
       "      <td>3</td>\n",
       "      <td>[26df226758334cb5bd353a3ddd6fb565]</td>\n",
       "      <td>C Stadt St.Gallen Stadtrat Vorlage an das Stad...</td>\n",
       "    </tr>\n",
       "    <tr>\n",
       "      <th>2</th>\n",
       "      <td>Wahl einer nichtständigen Kommission zur Vorbe...</td>\n",
       "      <td>10</td>\n",
       "      <td>[81554756428a40b69f08b73849e97642]</td>\n",
       "      <td>GGR-Vorlage Ausgliederung sgsw Beilage 5 Model...</td>\n",
       "    </tr>\n",
       "    <tr>\n",
       "      <th>3</th>\n",
       "      <td>St.Gallen – Felsenstrasse; Kappellenstrasse bi...</td>\n",
       "      <td>10</td>\n",
       "      <td>[7fbf9d1b99f94cf0bc1f2a72778b2032]</td>\n",
       "      <td>St.Georgen-Strass 9 Untere Mühlentreppe Münhel...</td>\n",
       "    </tr>\n",
       "    <tr>\n",
       "      <th>4</th>\n",
       "      <td>Schutzverordnung Goldachtobel</td>\n",
       "      <td>12</td>\n",
       "      <td>[a7cf239d72ff4cf6bc5853e54df8492d]</td>\n",
       "      <td>Schutzverordnung Goldachtobel August 2019 Ges...</td>\n",
       "    </tr>\n",
       "  </tbody>\n",
       "</table>\n",
       "</div>"
      ],
      "text/plain": [
       "                                                   X1   y  \\\n",
       "Id                                                          \n",
       "0   Sanierung von zwei Kindergärten und zwei Doppe...   5   \n",
       "1   Erweiterung der Freihandbibliothek an der Kath...   3   \n",
       "2   Wahl einer nichtständigen Kommission zur Vorbe...  10   \n",
       "3   St.Gallen – Felsenstrasse; Kappellenstrasse bi...  10   \n",
       "4                       Schutzverordnung Goldachtobel  12   \n",
       "\n",
       "                                 GUIDs  \\\n",
       "Id                                       \n",
       "0   [5c5d97cb5d504af49081116941868858]   \n",
       "1   [26df226758334cb5bd353a3ddd6fb565]   \n",
       "2   [81554756428a40b69f08b73849e97642]   \n",
       "3   [7fbf9d1b99f94cf0bc1f2a72778b2032]   \n",
       "4   [a7cf239d72ff4cf6bc5853e54df8492d]   \n",
       "\n",
       "                                                 Text  \n",
       "Id                                                     \n",
       "0    Vorlage Stadtparlament Datum 1. September 202...  \n",
       "1   C Stadt St.Gallen Stadtrat Vorlage an das Stad...  \n",
       "2   GGR-Vorlage Ausgliederung sgsw Beilage 5 Model...  \n",
       "3   St.Georgen-Strass 9 Untere Mühlentreppe Münhel...  \n",
       "4    Schutzverordnung Goldachtobel August 2019 Ges...  "
      ]
     },
     "execution_count": 49,
     "metadata": {},
     "output_type": "execute_result"
    }
   ],
   "source": [
    "dfnotnull = dftrain[~ dftrain.Text.isnull()]\n",
    "dfnotnull.head()"
   ]
  },
  {
   "cell_type": "code",
   "execution_count": 62,
   "id": "0bcb32c0-273f-4ecb-a8a3-49ab16608d5e",
   "metadata": {},
   "outputs": [],
   "source": [
    "#dfnotnull.to_feather('data.feather')\n",
    "dfnotnull.to_csv('../data/Open-Data-SG/train_text.csv')"
   ]
  },
  {
   "cell_type": "markdown",
   "id": "097a9846-7bc6-428b-896c-315a719261e5",
   "metadata": {},
   "source": [
    "Wir sollten zumindest stichprobenhaft überprüfen, dass die Titel etwas mit den dazugenommenen Texten zu tun haben!"
   ]
  },
  {
   "cell_type": "code",
   "execution_count": 56,
   "id": "26114c6f-d738-432f-acfe-785566385380",
   "metadata": {},
   "outputs": [
    {
     "data": {
      "text/plain": [
       "('VBSG-Linie 2, Verlängerung Hinterberg; Umwandlung des Versuchsbetriebs in einen regulären Betrieb',\n",
       " \"VBSG-Linie 2/8 Situation 1:5000 1 Tiefbauamt 5 1 4, 1/ Ahorn e ni Li 10-Min-Takt Linie 7 Hechtacker Friedhof Bruggen 20-Min-Takt 8 e n i L i Moosweiher Bernhardswies 20-Min-Takt 2 e Lini Rosenbüchel Fürstenlandbrücke 8 Gröblistrasse e i n i Bhf. Haggen L 20-Min-Takt Walserstrasse Stocken Rickenweg Haselstrasse 2 Haggen e ni Li 20-Min-Takt Hinterbergstrasse Hinterberg Schlössli Legende: Linie 4 Linie 2: Hauptachse Linie 8: verkehrt nur in Hauptverkehrszeit neue Linienführung bestehende Haltestelle neue Haltestelle bestehende Haltestelle überdacht neue Haltestelle überdacht Haltestelle aufheben / versetzen 0 100 200 m 15. März 2010 / BbC Stadt St.Gallen VBSG-Linie 2 und 8; Verlängerung Hinterberg und Erschliessung Rosenbüchel Fahrplan Anpassung Erschliessung Rosenbüchel ab 12.12.2010 Linie 2: St. Gallen Bhf - Ahorn - Bhf. Haggen - Hinterberg Linie 8: St. Gallen Bhf - Ahorn - Rosenbüchel - Schlössli - Haggen - Wendeplatz Stocken 2/8MONTAG - FREITAG SAMSTAG SONNTAG 2/8 Fahrzeiten 05 22 35 4550* 55 25 45 22 05 0 Bahnhof St.Gallen 0 Bahnhof St.Gallen 0605* 2030* 4050* 00 15 30 45 10 25 45 06 1 St.Leonhard 2 Bleicheli 07 0010* 20 30 40 50 00 15 30 45 05 25 45 07 3 Geltenwilen 3 Oberstrasse 08 10 20 35 40 50 00 15 30 45 05 25 45 08 4 Ruckhalde 4 Geltenwilenstrasse 09 05 20 35 50 00 15 30 45 05 25 45 09 5 Friedberg 5 Ruckhalde 10 05 20 35 50 00 15 30 45 05 25 40 55 10 6 Ruhsitz 6 Friedberg 11 05 20 30 35 50 00 15 30 45 10 25 40 55 11 7 Ahorn 7 Ruhsitz 12 0210* 2030* 4050* 00 15 30 45 10 25 40 55 12 8 Hechtacker 10 Ahorn 13 0010* 2030* 4050* 00 15 30 45 10 25 40 55 13 9 Bernhardswies 11 Hechtacker 14 0010* 2030* 4050* 00 15 30 45 10 25 40 55 14 11Bahnhof Haggen 12 Rosenbüchel 15 0010* 2030* 4050* 00 15 30 45 10 25 40 55 15 13Walserstrasse 13 Haselstrasse 16 0010* 2030* 4050* 00 15 30 45 10 25 40 55 16 13Rickenweg 14 Schlössli 17 0010* 2030* 4050* 00 15 30 45 10 25 40 55 17 14Hinterbergstrasse 15 Haggen 18 0010* 2030* 4050* 58 00 20 40 10 25 40 55 18 15Hinterberg 16 Gröblistrasse 19 10 20 30 40 55 00 20 40 10 25 45 19 17 Moosweiher 20 05 21 35 50 00 20 40 00 20 40 20 18 Friedhof Bruggen 21 05 25 35 45 00 20 40 00 20 40 21 19 Fürstenlandbrücke 22 05 25 45 00 20 40 00 20 40 22 20 Wendeplatz Stocken 23 05 25 45 00 20 40 00 20 40 23 00 05 00 30 05 30 00 * via Rosenbüchel nach 01 01 Wendeplatz Stocken 02 02 Linie 2: Hinterberg - Bhf. Haggen - Ahorn - St.Gallen Bhf. Linie 8: Wendeplatz Stocken - Haggen - Schlössli - Rosenbüchel - Ahorn - St.Gallen Bhf. 2/8MONTAG - FREITAG SAMSTAG SONNTAG 2/8 Fahrzeiten 05 39 49 39 59 36 05 0 Hinterberg 0 Wendeplatz Stocken 06 0109* 1829* 4149* 14 29 44 59 26 46 06 1 Hinterbergstrasse 1 Fürstenlandbrücke 07 0109* 1829* 4149* 14 29 44 59 06 26 46 07 2 Rickenweg 3 Friedhof Bruggen 08 04 19 34 40 49 14 29 44 59 06 26 46 08 2 Walserstrasse 4 Moosweiher 09 04 19 34 49 14 29 44 59 06 26 46 09 4 Bahnhof Haggen 5 Gröblistrasse 10 04 19 34 49 14 29 44 59 06 24 39 54 10 6 Bernhardswies 6 Haggen 11 04 19 34 44 14 29 44 59 09 24 39 54 11 7 Hechtacker 7 Schlössli 12 01 11 2129* 4149* 14 29 44 59 09 24 39 54 12 8 Ahorn 8 Haselstrasse 13 0109* 2129* 4149* 14 29 44 59 09 24 39 54 13 9 Ruhsitz 9 Rosenbüchel 14 0109* 2129* 4149* 14 29 44 59 09 24 39 54 14 11Friedberg 10 Hechtacker 15 0109* 2129* 4149* 14 29 44 59 09 24 39 54 15 12Ruckhalde 13 Ahorn 16 0109* 2129* 4149* 14 29 44 59 09 24 39 54 16 13Geltenwilenstrasse 14 Ruhsitz 17 0109* 2129* 4149* 14 29 44 59 09 24 39 54 17 14St.Leonhard 15 Friedberg 18 0109* 2129* 4149* 14 29 44 59 09 24 39 54 18 15Bahnhof St.Gallen 16 Ruckhalde 19 0109* 1629* 38 48 59 14 29 46 09 26 41 19 17 Geltenwilenstrasse 20 14 29 39 54 01 21 41 01 21 41 20 18 Oberstrasse 21 09 26 46 54 01 21 41 01 21 41 21 19 Bleicheli 22 06 26 46 01 21 41 01 21 41 22 20 Bahnhof St.Gallen 23 06 26 46 01 21 41 01 19 46 23 00 06 24 01 19 46 00 * ab Wendeplatz Stocken via Rosenbüchel A Fahrplan_L2_Rosenbüchel_100310.xlsH a Stadt\\xa0St.Gallen g g Tiefbauamt 01=A e n s t r Entw. Gez. Visiert Datum Format a VBueslirnlieä\\xa02ngerung\\xa0Hinterberg Ha HHaa 1350..1112..22000099 bca45\\xa0/\\xa06en3 9.67 50 2.00 61s=Ase Zic k z a c klinie\\xa0e ntfern e n d g e n e eru ss Bushaltestelle\\xa0Schlössli f d a g Än tr s r e b Projekt\\xa0Nr. Plan\\xa0Nr. O Signalisation\\xa0und\\xa0Markierung\\xa01:250 07.344 10.3 Vorprojekt Definitives\\xa0Projekt Ausführungsprojekt Ausgeführtes\\xa0Projekt n e s s a p n )a\\xa02 gma\\xa0l6e 8b(n\\xa0eu se sn\\xa0argteSwu he en\\xa0Geinilk c a z k ciZ 24.99 40.00 uen\\xa06u\\xa0eNnS\\xa0.bmneonkr\\xa0e2f1tnNeR\\xa0.bmok\\xa08NS 61=A \\xa0uen\\xa0)m0te0t.h1c\\xa0.uneimlne\\xa0rb=e\\xa0D5g3(n\\xa0.äf2plr\\xa0odeknvle\\xa0unn\\xa0e4ef3ine.r2ret\\xa0stfitrneeg\\xa0nteätghnscesuh\\xa0ueucFleeenbrb\\xa0\\xa0)5bm3a0.\\xa0t2le0e\\xa0t.dsh1nnc\\xa0.Iuun\\xa0ei4ml3e\\xa0.b=2\\xa0D53(n\\xa0.fe2ps\\xa0odsknaleups\\xa0n4na3I\\xa0.e2in\\xa0tiilmstiehrehciS sm n 10.00 I 01=A H u e n\\xa0einilsto bre v etla M nenr nr)e Gg nSäBlrVe(\\xa0v\\xa0nneezftieerstrserve\\xa0tg sn aä g s s u F nemmonegsua eft n e\\xa0 ei nil k c a z k ci Z e s s a s tr g n a g o lf W Stadt St.Gallen Stadtrat Vorlage Stadtparlament vom 23. März 2010 Nr. 1625 Öffentlicher Verkehr: Allgemeines VBSG-Linie 2, Verlängerung Hinterberg; Umwandlung des Versuchsbetriebs in einen regulären Betrieb Antrag Wir beantragen Ihnen, folgende Beschlüsse zu fassen: 1. Der Versuchsbetrieb der Linie 2 (Verlängerung bis Hinterberg) wird per August 2010 ab- geschlossen und der Busbetrieb künftig als reguläres Angebot geführt. 2. Die den Verkehrsbetrieben durch den regulären Betrieb entstehenden jährlich wiederkeh- renden ungedeckten Kosten von rund CHF 660’000 werden zu Lasten der Laufenden Rechnung (Konto 616.3636 „Verkehrsangebot im Ortsverkehr“) abgegolten. 3. Das Postulat betreffend die Verlängerung der Buslinie 2 und Erstellung der S-Bahn- haltestelle „Hinterberg“ & „Güterbahnhof“ wird als erledigt abgeschrieben. 4. Der Kreditbeschluss gemäss Ziffer 2 unterliegt nach Artikel 8 Ziffer 6 lit. b der Gemeinde- ordnung dem fakultativen Referendum. 1 Ausgangslage 1.1 Bisheriger Versuchsbetrieb Da die Wohngebiete Lehnstrasse / Hinterberg und Hechtackerstrasse / Oberstrasse nur un- genügend an den öffentlichen Verkehr (ÖV) angebunden waren und zudem in den Gebieten Rosenbüchel und Hechtacker eine erhebliche Anzahl neuer Wohnungen entstanden sind bzw. entstehen, hiess das Stadtparlament am 25. September 2007 einen dreijährigen Ver- suchsbetrieb für eine Verlängerung der VBSG-Linie 2 bis ins Gebiet Hinterberg gut. Der Ver- suchsbetrieb wurde mit dem Fahrplanwechsel im Dezember 2007 aufgenommen. www.stadt.sg.ch Seite 2 von 6 Zu Beginn verkehrten alle Busse bis Hinterberg. Aufgrund der Rückmeldungen der Quartier- bevölkerung und in Absprache mit dem Einwohnerverein Bruggen wurden die Busfrequen- zen im Quartier Hinterberg auf den Fahrplanwechsel im Dezember 2008 halbiert. Seit die- sem Zeitpunkt verkehren die Busse alternierend auf der Strecke Bahnhof Haggen – Hinter- berg bzw. Bahnhof Haggen – Friedhof Bruggen – Stocken. Diese Aufsplittung wurde allseits positiv aufgenommen. Die vom Stadtparlament am 25. September 2007 behandelte Vorlage sieht vor, dass nach dem geplanten Ausbau der Oberstrasse zwischen Rosenbüchel und Hechtackerstrasse die Busse der VBSG-Linie 2 über die Oberstrasse statt über die Hecktackerstrasse verkehren. 1.2 Projekt Oberstrasse Das Stadtparlament hiess am 16. September 2008 das Projekt Oberstrasse, Ausbau und Instandstellung von der Hechtackerstrasse bis zum Haggenhaldenweg, gut und erteilte den entsprechenden Verpflichtungskredit. Wegen der veränderten Randbedingungen des Busbe- triebes war eine Anpassung des Projektes im Bereich der Einmündung Hechtackerstrasse / Oberstrasse notwendig, welche der Stadtrat am 15. April 2009 guthiess (SRB Nr. 0401). Im Sommer 2009 wurde mit dem Ausbau der Oberstrasse begonnen. Die Arbeiten dauern noch bis Ende Juli 2010. 2 Ergebnisse Versuchsbetrieb und Übernahme in regulären Betrieb 2.1 Fahrgastzahlen Gemäss der seinerzeitigen Vorlage an das Stadtparlament für die Verlängerung der Buslinie 2 liegt die für eine Weiterführung des Betriebes notwendige Fahrgastzahl für das erste und zweite Versuchsjahr bei 530 Fahrgästen (Einsteiger/innen) pro Tag, beziehungsweise bei 800 Fahrgästen (Einsteiger/innen) pro Tag im dritten Versuchsjahr. Die Auswertungen der Fahrgastzahlen der Verkehrsbetriebe St.Gallen zeigen folgendes Re- sultat: Total Zielwert ˘ Einsteiger/innen ˘ Einsteiger/innen Jahr Montag – Sonntag Montag – Sonntag [Personen / Tag] [Personen / Tag] 2008 632 530 Seite 3 von 6 2009 831 530 2010 (Januar) 843 800 Im Jahre 2009 machten durchschnittlich 831 Fahrgäste (Einsteiger/innen) pro Tag vom Busangebot Gebrauch. Somit wird das Ziel von 530 Fahrgästen pro Tag für das 2. Versuchs- jahr deutlich übertroffen. Die Einsteigerzahlen im Jahre 2009 erreichen bzw. überschreiten sogar das Fahrtgastziel für das dritte Versuchsjahr. Auch die ersten vorhandenen Werte aus dem Jahre 2010 überschreiten den geforderten Zielwert. Das heisst, dass der Versuchsbe- trieb erfolgreich ist. Daher soll die Verlängerung der Linie 2 auch künftig betrieben und in den definitiven Betrieb überführt werden. Der Einwohnerverein Bruggen unterstützt dieses Anlie- gen. Die Fahrgasterhebungen zeigen, dass die Abschnitte Ahorn bis Haggen und Hinterberg – Haggen jeweils rund 45 % des Fahrgastaufkommens (Einsteiger/innen) und der Abschnitt Stocken – Haggen rund 10 % des gesamten Passagieraufkommens des Linienastes aufwei- sen. Die hohe Nachfrage im Abschnitt Ahorn bis Haggen macht deutlich, dass im Bereich der Hechtackerstrasse ein entsprechend grosses Fahrgastpotential vorhanden ist. 2.2 Fahrrouten Der Ausbau der Oberstrasse ermöglicht nun weitere betriebliche Verbesserungen. Aufgrund der grossen Nachfrage auf der Hechtackerstrasse soll – entgegen der ursprünglichen Ab- sicht – auch weiterhin über die Hechtackerstrasse gefahren werden; jedoch soll auch das Gebiet Rosenbüchel erschlossen werden. Deshalb sind mögliche Modifikationen an der Lini- enführung entwickelt, mit Vertretern des Einwohnervereins Bruggen besprochen und die Bestvariante zum geplanten Angebot konkretisiert worden. 3 Angebot ab 9. August 2010 3.1 Linienführung und Angebot Die heutige Linie 2 verkehrt von Ahorn bis Bahnhof Haggen. Dort splittet sie sich auf in den Linienast nach Hinterberg bzw. Stocken. Neu erfolgt die Aufsplittung bereits ab Hechtacker. Es ist somit folgender Betrieb vorgesehen: - Der eine Kurs (neue VBSG-Linie 8) führt in beiden Richtungen von der Ahornstrasse über die Route Oberstrasse (Rosenbüchel) – Haggenstrasse – Fürstenlandstrasse – Zürcher Strasse nach Stocken. Seite 4 von 6 - Der andere Kurs (wie bis anhin Linie 2) führt in beiden Richtungen von der Ahornstrasse über die Route Oberstrasse – Hechtackerstrasse – Bahnhof Haggen – Lehnstrasse nach Hinterberg. Während dem 10-Minuten-Takt resp. 15-Minuten-Takt auf dem Abschnitt Bahnhof – Ahorn verkehren die beiden Linien alternierend im 20- resp. 30-Minuten-Takt. In den betrieblichen Randzeiten fährt lediglich die VBSG-Linie 2 (Route Oberstrasse - Hechtackerstrasse – Bahnhof Haggen – Lehnstrasse nach Hinterberg). Die Anpassung des Angebots soll möglichst sofort nach Abschluss der Bauarbeiten an der Oberstrasse umgesetzt werden, damit das Gebiet auch mit dem öffentlichen Verkehr er- schlossen ist. Es ist geplant, dass die Busse ab 9. August 2010 in der neuen Betriebsform verkehren werden. Auf diesen Zeitpunkt sollen auch der Versuchsbetrieb abgeschlossen werden und die Busse im regulären Betrieb verkehren. 3.2 Fahrzeuge Das vorgesehene Fahrplanangebot kann je nach Taktdichte auf dem Abschnitt Bahnhof bis Ahorn weiterhin mit fünf Fahrzeugen (15-Minuten-Takt) bis sieben Fahrzeugen (10-Minuten- Takt) sichergestellt werden. Gegenüber dem heutigen Angebot muss somit kein zusätzliches Fahrzeug eingesetzt werden. Die beiden Linien werden weiterhin mit Gelenkbussen betrie- ben. 3.3 Haltestelleninfrastruktur Die Haltestelle „Rosenbüchel“ erhält als einzige Haltestelle stadteinwärts eine Wartehalle. Diese wird im Rahmen der Instandstellung der Oberstrasse erstellt. Bei den anderen Halte- stellen sind vorerst keine Wartehallen vorgesehen. 3.4 Bauliche Massnahmen Um einen sicheren und möglichst ungehinderten Busbetrieb realisieren zu können, sind klei- nere bauliche Anpassungen und Ergänzungen auf dem neuen Streckenabschnitt erforder- lich. 3.4.1 Knoten Oberstrasse / Haggenstrasse Die durchgeführten Testfahrten haben gezeigt, dass eine leichte Anpassung des Strassen- knotens Oberstrasse / Haggenstrasse erforderlich ist. Dabei muss die bestehende Fussgän- ger-Schutzinsel um rund einen Meter verschoben werden. Seite 5 von 6 3.4.2 Haltestelle Schlössli Die Haltestelle Schlössli wird künftig sowohl von der Linie 4 (Wolfganghof) als auch von der neuen Linie 8 angefahren. Da sich die heutige Haltestelle Schlössli stadteinwärts an der Wolfgangstrasse befindet und somit nicht von der Linie 8 bedient werden kann, wird diese für eine gemeinsame Haltestelle der Linien 4 und 8 in die Haggenstrasse versetzt. An der vorgesehenen neuen Haltestelle Schlössli fehlt auf der westlichen Strassenseite ein Trottoir. Dieses muss auf einer Länge von ca. 40 m neu erstellt sowie der bestehende Fahr- leitungsmast ausserhalb des neuen Gehwegbereiches versetzt werden. Grundeigentümerin der beanspruchten Fläche ist die Politische Gemeinde St.Gallen. 3.4.3 Haltestelle Haselstrasse Für die vorgesehene neue Haltestelle „Haselstrasse“ an der Oberstrasse sind ausser der minimalen Haltestelleninfrastruktur (Haltestellentafel und Markierung) keine zusätzlichen baulichen Massnahmen notwendig. 3.4.4 Haltestelle Rosenbüchel Im Rahmen der Sanierung und Erneuerung der Oberstrasse wird für die geplante Haltestelle „Rosenbüchel“ Richtung Stadt das Fundament für die Normwartehalle gebaut. Diese wird Ende 2010 installiert. 3.4.5 Haltestelle Hechtacker Um die Erschliessungsqualität zu verbessern, wird die bestehende Haltestelle „Hechtacker“ an der Hechtackerstrasse 34 neu in beiden Richtungen zwischen den Gebäuden Nr. 40 und 42 angeordnet werden. 3.4.6 Kosten Für die beschriebenen baulichen Massnahmen fallen Kosten von rund CHF 135'000 an. Die Krediterteilung liegt in der Kompetenz des Stadtrates. 4 Jährlich wiederkehrende Kosten Die jährlich wiederkehrenden ungedeckten Kosten für die Verlängerung der VBSG-Linien 2 und 8 belaufen sich gemäss aktuellem Angebot der VBSG zusammen auf CHF 660'000. Diese werden zu Lasten der Laufenden Rechnung (Konto 616.3636 „Verkehrsangebot Orts- verkehr“) abgegolten. Seite 6 von 6 Ursprünglich wurde mit jährlichen Kosten für den Versuchsbetrieb von CHF 620'000 gerech- net. Die Mehrkosten gegenüber dem Jahr 2007 entstehen insbesondere infolge der Teue- rung und den etwas höheren Fahrzeugkilometern gegenüber der damaligen Linienführung. 5 Postulat Verlängerung der Buslinie 2 und Erstellung der S-Bahnhaltestelle „Hinterberg“ & „Güterbahnhof“ Das Postulat beinhaltet den Auftrag, Bericht und Antrag zu stellen, wie und wann eine Ver- besserung für die neuen Wohn- und Arbeitsplatzgebiete Hechtacker / Bernhardswies, Hin- terberg und Güterbahnhof erreicht werden kann. Mit der Verlängerung der Buslinie 2 wird eine angemessene ÖV-Erschliessung für das Ge- biet Hechtacker / Bernhardswies und Hinterberg erreicht. Mit dem Projekt Durchmesserlinie der Appenzeller Bahnen, d.h. der Verbindung der beiden getrennten Linien der Appenzeller Bahnen „St.Gallen – Trogen“ (S12) und „St.Gallen – Ap- penzell“ (S11), ist auch die Haltestelle Güterbahnhof vorgesehen. Für das Projekt Durch- messerlinie hat die öffentliche Auflage bereits stattgefunden. Die Bauarbeiten werden nach heutiger Planung in den Jahren 2013 bis 2015 stattfinden. Aufgrund der begrenzten Kapazitäten auf dem Schienennetz sowie der guten Buserschlies- sung der Quartiere entlang der Schiene resp. zu kleinem Potential der Bahnhaltestellen ist keine zusätzliche Haltestelle auf dem Normalspurnetz vorgesehen. Auf eine zusätzliche S- Bahnhaltestelle „Hinterberg“ wird daher auf absehbare Zeit verzichtet. Es wird beantragt, das Postulat abzuschreiben. Der Stadtpräsident: Scheitlin Der Stadtschreiber: Linke Beilage: Plan „Neue Linienführung“ Fahrplan Situationsplan Haltestelle Schlössli \")"
      ]
     },
     "execution_count": 56,
     "metadata": {},
     "output_type": "execute_result"
    }
   ],
   "source": [
    "random_row = dfnotnull.sample(1)\n",
    "random_row.X1.values[0],random_row.Text.values[0]"
   ]
  },
  {
   "cell_type": "code",
   "execution_count": null,
   "id": "60ada12f-ac64-494d-ade2-4c7248e5b26a",
   "metadata": {},
   "outputs": [],
   "source": []
  }
 ],
 "metadata": {
  "kernelspec": {
   "display_name": "OpenData",
   "language": "python",
   "name": "opendata"
  },
  "language_info": {
   "codemirror_mode": {
    "name": "ipython",
    "version": 3
   },
   "file_extension": ".py",
   "mimetype": "text/x-python",
   "name": "python",
   "nbconvert_exporter": "python",
   "pygments_lexer": "ipython3",
   "version": "3.11.6"
  }
 },
 "nbformat": 4,
 "nbformat_minor": 5
}
