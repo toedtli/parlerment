{
 "cells": [
  {
   "cell_type": "code",
   "execution_count": 1,
   "id": "b7aedd05-2050-49d8-b88d-f00b1b677d11",
   "metadata": {},
   "outputs": [],
   "source": [
    "import pdfplumber\n",
    "import re\n",
    "import pandas as pd\n",
    "import os\n",
    "import zipfile\n",
    "import configparser \n",
    "from glob import glob\n",
    "import tqdm\n",
    "from tqdm import tqdm\n",
    "from tqdm.notebook import tqdm_notebook # benötigt conda install -c conda-forge ipywidgets\n",
    "from pdfminer.pdftypes import PDFException\n",
    "import requests\n",
    "from zipfile import ZipFile\n",
    "from zipfile import BadZipFile\n",
    "import ipdb\n",
    "import codecs\n",
    "import numpy as np\n",
    "tqdm.pandas()  # <- added this line\n",
    "tqdm_notebook.pandas()"
   ]
  },
  {
   "cell_type": "code",
   "execution_count": 2,
   "id": "3b198173-b416-4ddb-8abc-7757790ad712",
   "metadata": {},
   "outputs": [],
   "source": [
    "def creatdirection (configfile,ScratchPfad=''):\n",
    "    config = configparser.ConfigParser()\n",
    "    config.read(configfile, encoding='utf-8')\n",
    "    if not ScratchPfad:\n",
    "        ScratchPfad = config['Verzeichnisse']['verarbeitungspfad']\n",
    "\n",
    "    Text_Pfad = os.path.join(ScratchPfad,'Text')\n",
    "    PDF_Pfad = os.path.join(ScratchPfad,'PDF')  \n",
    "    ZIP_Pfad = os.path.join(ScratchPfad,'ZIP')\n",
    "\n",
    "    for pfad in (Text_Pfad,PDF_Pfad,ZIP_Pfad):\n",
    "        if not os.path.exists(pfad):\n",
    "            os.makedirs(pfad,exist_ok=False)\n",
    "        else:\n",
    "            #raise FileExistsError(f'{pfad} existiert bereits')\n",
    "            print(f'{pfad} existiert bereits')\n",
    "    return Text_Pfad, PDF_Pfad, ZIP_Pfad"
   ]
  },
  {
   "cell_type": "code",
   "execution_count": 5,
   "id": "c8164ab4-bad4-4333-975d-2aca899a8e7f",
   "metadata": {},
   "outputs": [
    {
     "name": "stdout",
     "output_type": "stream",
     "text": [
      "C:\\Temp\\Stadt_SG\\Text existiert bereits\n",
      "C:\\Temp\\Stadt_SG\\PDF existiert bereits\n",
      "C:\\Temp\\Stadt_SG\\ZIP existiert bereits\n"
     ]
    }
   ],
   "source": [
    "Text_Pfad, PDF_Pfad, ZIP_Pfad=creatdirection('../config.ini')"
   ]
  },
  {
   "cell_type": "code",
   "execution_count": 3,
   "id": "f95caaa9-534e-4bb0-bfa9-1611263780e6",
   "metadata": {},
   "outputs": [],
   "source": [
    "def get_traktandierte_geschaefte(configfile):\n",
    "    config = configparser.ConfigParser(interpolation=None)\n",
    "    config.read(configfile, encoding='utf-8')\n",
    "    basedir = config['Verzeichnisse']['basedir']\n",
    "    url = config['Verzeichnisse']['url']\n",
    "    r = requests.get(url, allow_redirects=True)\n",
    "    savepath = os.path.join(basedir,'input')\n",
    "    fullfilename = os.path.join(savepath,'traktandierte-geschaefte-sitzungen-stadtparlament-stgallen.csv')\n",
    "    with open(fullfilename, 'wb') as fh:\n",
    "        fh.write(r.content)\n",
    "    print(f'wrote to {fullfilename}.')\n",
    "    inputcsv = pd.read_csv(fullfilename,sep=';')\n",
    "    return inputcsv"
   ]
  },
  {
   "cell_type": "code",
   "execution_count": 6,
   "id": "58e4be20-de0e-4642-985e-0d9732fb1b26",
   "metadata": {},
   "outputs": [
    {
     "name": "stdout",
     "output_type": "stream",
     "text": [
      "wrote to C:\\Users\\mauri\\OneDrive - OST\\Studium\\Semester 6 (Final)\\MALE\\opendatasg\\input\\traktandierte-geschaefte-sitzungen-stadtparlament-stgallen.csv.\n"
     ]
    }
   ],
   "source": [
    "inputcsv = get_traktandierte_geschaefte('../config.ini')"
   ]
  },
  {
   "cell_type": "code",
   "execution_count": 7,
   "id": "ea9a2e1c-4db3-43f1-88d3-1c41f942bc09",
   "metadata": {},
   "outputs": [
    {
     "data": {
      "text/plain": [
       "0       https://ftp-sg.oca.ch/stadtparlament/43d16273e...\n",
       "1       https://ftp-sg.oca.ch/stadtparlament/1b627ee96...\n",
       "2       https://ftp-sg.oca.ch/stadtparlament/b4cc21efa...\n",
       "3       https://ftp-sg.oca.ch/stadtparlament/eb719d563...\n",
       "4       https://ftp-sg.oca.ch/stadtparlament/1b627ee96...\n",
       "                              ...                        \n",
       "3861    https://ftp-sg.oca.ch/stadtparlament/209495d10...\n",
       "3862    https://ftp-sg.oca.ch/stadtparlament/6a3b42872...\n",
       "3863    https://ftp-sg.oca.ch/stadtparlament/5d0347a5d...\n",
       "3864    https://ftp-sg.oca.ch/stadtparlament/49d42124a...\n",
       "3865    https://ftp-sg.oca.ch/stadtparlament/37eff2f96...\n",
       "Name: Download Traktandumsdokumente, Length: 3866, dtype: object"
      ]
     },
     "execution_count": 7,
     "metadata": {},
     "output_type": "execute_result"
    }
   ],
   "source": [
    "url = inputcsv['Download Traktandumsdokumente'].iloc[0]\n",
    "urls = inputcsv['Download Traktandumsdokumente']\n",
    "urls"
   ]
  },
  {
   "cell_type": "code",
   "execution_count": 8,
   "id": "00018291-8968-41d5-9a8e-e9033749e5b7",
   "metadata": {},
   "outputs": [],
   "source": [
    "def unzip(source_filename, dest_dir):\n",
    "    with zipfile.ZipFile(source_filename) as zf:\n",
    "        zf.extractall(dest_dir)\n"
   ]
  },
  {
   "cell_type": "code",
   "execution_count": 9,
   "id": "770d1507-baab-47e2-af8f-5e5730c6bdc4",
   "metadata": {},
   "outputs": [],
   "source": [
    " def cretatedir(dest):    \n",
    "    #print('create',dest)\n",
    "    os.makedirs(dest,exist_ok=True)\n",
    "    return dest\n",
    "# Create a ZipFile Object and load sample.zip in it\n",
    "def extract(zipfn,dest,verbose=False):\n",
    "    try: \n",
    "        with ZipFile(zipfn, 'r') as zipfile:\n",
    "           # Extract all the contents of zip file in current directory\n",
    "            try:\n",
    "                zipfile.extractall(path=dest)\n",
    "            except OSError as err:\n",
    "                print(err)\n",
    "                print(f'Extraction failed for {zipfn},{dest}')\n",
    "                print(zipfile.namelist())\n",
    "                #ipdb.set_trace()\n",
    "                \"\"\"dest = dest.replace('\\r\\n','')\n",
    "                destfiles = [s.replace('\\n','').replace('\\r','').replace(')','') for s in zipfile.namelist()]\n",
    "                for filename,dest in zip(zipfile.namelist(),destfiles):\n",
    "                    filenamenew = filename.replace('\\n','').replace('\\r','').replace(')','')\n",
    "                    zipfile.extract(filename,path=os.path.join(dest,filenamenew))\n",
    "                    print(f'extracted {filename} to {dest}')\n",
    "                \"\"\"\n",
    "            if verbose:\n",
    "                print(f'extracted to {dest}')\n",
    "    except BadZipFile as err:\n",
    "        print(err)\n",
    "        ipdb.set_trace\n",
    "\n",
    "def create_and_extract(zipfn,destdir,verbose=False):\n",
    "    if verbose:\n",
    "        print(f'creating dir {destdir}')\n",
    "    dest = cretatedir(destdir)\n",
    "    #print('dest',dest)\n",
    "    #print('zipfn',zipfn)\n",
    "    #if not os.path.exists(dest):\n",
    "    extract(zipfn,dest)\n",
    "import ipdb\n",
    "def download_and_save(url,filename=None,verbose=False,zippath=ZIP_Pfad,pdfpath=PDF_Pfad):\n",
    "    \"\"\"\n",
    "    >>>download_and_save(url,zippath=ZIP_Pfad,pdfpath=PDF_Pfad)\n",
    "    (<Response [200]>,\n",
    " 'C:\\\\Temp\\\\Stadt_SG2\\\\ZIP\\\\00e39bd219f34918a9cbc202682fd945.zip')\n",
    "    \"\"\"\n",
    "    if filename is None:\n",
    "        filename = os.path.splitext(os.path.basename(url))[0]\n",
    "   # zippath = os.path.join(scratchPath,f'zip')\n",
    "    zipfn=os.path.join(zippath,f'{filename}.zip')\n",
    "    #print(scratchPath,filename,zipfn)\n",
    "    #ipdb.set_trace()\n",
    "    #os.makedirs(scratchPath,exist_ok =True)\n",
    "    \n",
    "\n",
    "#    if not os.path.exists(zippath):\n",
    "#        os.makedirs(zippath,exist_ok =True)\n",
    "    if not os.path.exists(zipfn):\n",
    "        r = requests.get(url, allow_redirects=True)\n",
    "        assert  os.path.exists(zippath),'???'\n",
    "        try:\n",
    "            with open(zipfn, 'wb') as fh:\n",
    "                fh.write(r.content)\n",
    "        except PermissionError as err:\n",
    "            print('--------',err)\n",
    "            ipdb.set_trace()\n",
    "            return r,None\n",
    "        if verbose:\n",
    "            print(f'saved to {zipfn}',filename)\n",
    "    else: \n",
    "        #print(zipfn,'already exists')\n",
    "        r=None\n",
    "    #print('scratchPath',scratchPath)\n",
    "    extractpath = os.path.join(pdfpath,fr'{filename}')\n",
    "    create_and_extract(zipfn,extractpath)\n",
    "    return r,zipfn"
   ]
  },
  {
   "cell_type": "code",
   "execution_count": 10,
   "id": "b8028b83-c971-4cc6-896b-426833f5504d",
   "metadata": {},
   "outputs": [
    {
     "data": {
      "text/plain": [
       "'C Stadt St.Gallen Stadtrat Vorlage an den Grossen Gemeinderat vom 5. August 2003 Nr. 3599 Interpellation Interpellation Maria Huber-Kobler und Beata Studer-Lenzlinger: Vandalismus in den städtischen Bussen; schriftlich Maria Huber-Kobler und Beata Studer-Lenzlinger sowie 43 Mitunterzeichnende reichten am 27. Mai 2003 eine Interpellation: „Vandalismus in den städtischen Bussen“ ein (vgl. Beilage). Der Stadtrat beantwortet die Interpellation wie folgt: 1. Bei den Verkehrsbetrieben ist der Zugang z'"
      ]
     },
     "execution_count": 10,
     "metadata": {},
     "output_type": "execute_result"
    }
   ],
   "source": [
    "def preprocess_Text(s):\n",
    "    s = re.sub('\\n *',' ',s)\n",
    "    s = re.sub('  +',' ',s)\n",
    "    return s\n",
    "    \n",
    "def process_pdf(pdffile):\n",
    "    with pdfplumber.open(pdffile) as pdf:\n",
    "        pagelist = [page.extract_text() for page in pdf.pages]\n",
    "        Text = ' '.join(pagelist)\n",
    "        s = preprocess_Text(Text)\n",
    "    return s\n",
    "#nur mal als Test kann später gelöscht werden:\n",
    "text = process_pdf(r\"C:\\Temp\\Stadt_SG\\downloads\\extract\\7099d3f0fbfb4a8695bd6419e5d3700b\\Interpellation.pdf\")\n",
    "text[:500]"
   ]
  },
  {
   "cell_type": "code",
   "execution_count": 11,
   "id": "7dcb1589-e4fc-4c79-991f-7553f97dc530",
   "metadata": {},
   "outputs": [
    {
     "data": {
      "application/vnd.jupyter.widget-view+json": {
       "model_id": "5ed3a16e36fa4345a96672bb8712a933",
       "version_major": 2,
       "version_minor": 0
      },
      "text/plain": [
       "  0%|          | 0/239 [00:00<?, ?it/s]"
      ]
     },
     "metadata": {},
     "output_type": "display_data"
    },
    {
     "name": "stdout",
     "output_type": "stream",
     "text": [
      "Done. Wrote to C:\\Temp\\Stadt_SG\\Text\n"
     ]
    }
   ],
   "source": [
    "def process_file(pdf_fn):\n",
    "    subdir = os.path.split(os.path.split(pdf_fn)[0])[1]\n",
    "    output_txt_fn = pdf_fn.replace('.pdf','.txt')\n",
    "    output_txt_fn =  os.path.join(Text_Pfad,subdir,os.path.basename(output_txt_fn))\n",
    "    if os.path.exists(output_txt_fn):\n",
    "        filesize = os.path.getsize(output_txt_fn)\n",
    "    if not os.path.exists(output_txt_fn) or filesize < 100:\n",
    "        try:\n",
    "            text = process_pdf(pdf_fn)\n",
    "        except ValueError as err:\n",
    "            print(f\"Error {err}\")\n",
    "            print(f\"Datei war {pdf_fn}\")\n",
    "            print(err,'skipping')\n",
    "            return 'valueerror'\n",
    "        except PDFException as err:\n",
    "            print(err)\n",
    "            print(f'Exception at {pdf_fn}')\n",
    "            return 'pdfexception'\n",
    "        os.makedirs(os.path.join(Text_Pfad,subdir),exist_ok=True)\n",
    "        #print(f'{ipdf} of {L}: {output_txt_fn}')\n",
    "        os.path.split(output_txt_fn)\n",
    "        with open(output_txt_fn,'w',encoding='utf-8') as fh:\n",
    "            fh.write(text)\n",
    "        return 'success'\n",
    "    else:\n",
    "        #print(filesize,output_txt_fn)\n",
    "        return 'file exists'        \n",
    "    \n",
    "l = glob(os.path.join(PDF_Pfad,r'*\\*.pdf'))\n",
    "t = tqdm_notebook(l)\n",
    "for pdf_fn in t:\n",
    "    t.set_postfix(file=f'{pdf_fn:.<100}')\n",
    "    try:\n",
    "        process_file(pdf_fn)\n",
    "    except FileNotFoundError as err:\n",
    "        print('FEHLER:',err,f'überspringe Datei {pdf_fn}')\n",
    "        continue\n",
    "print(f'Done. Wrote to {Text_Pfad}')"
   ]
  },
  {
   "cell_type": "markdown",
   "id": "e0d907cb-0c74-42a8-b46b-0a03cebe98bc",
   "metadata": {},
   "source": [
    "Typisches Log:\n",
    "\n",
    "    Error not enough values to unpack (expected 2, got 1)\n",
    "    Datei war D:\\datasets\\Stadt_SG\\downloads\\extract\\1f9ecaa938b443bea854b8a32263e07b\\LA Neudorf Planbeilage Bestand neu - 02.07.2021 #2.pdf\n",
    "    not enough values to unpack (expected 2, got 1) skipping\n",
    "    Error not enough values to unpack (expected 2, got 1)\n",
    "    Datei war D:\\datasets\\Stadt_SG\\downloads\\extract\\1f9ecaa938b443bea854b8a32263e07b\\LA Neudorf Planbeilage Projekt neu - 02.07.2021 #1.pdf\n",
    "    not enough values to unpack (expected 2, got 1) skipping\n",
    "    Error not enough values to unpack (expected 2, got 1)\n",
    "    Datei war D:\\datasets\\Stadt_SG\\downloads\\extract\\3f1260b3a4ef4dbb98227851187c5766\\Übersichtsplan, St.Leonhard-Strasse, Gäbrisstrasse - Kornhausstrasse - 27.11.2020 #1.pdf\n",
    "    not enough values to unpack (expected 2, got 1) skipping\n",
    "    Error not enough values to unpack (expected 2, got 1)\n",
    "    Datei war D:\\datasets\\Stadt_SG\\downloads\\extract\\42f20100cf604135863a4e271cfff36e\\Übersichtsplan A4 Gübsenweg und SBB-Sitterbrücke - 01.10.2020 #3.pdf\n",
    "    not enough values to unpack (expected 2, got 1) skipping\n",
    "    Error not enough values to unpack (expected 2, got 1)\n",
    "    Datei war D:\\datasets\\Stadt_SG\\downloads\\extract\\5a1ae32cae5c47c7a7fc285b82707547\\Gestaltungsplan; Rorschacher Strasse, Buswendeplatz; Verpflichtungskredit 16.01.2020 #1.pdf\n",
    "    not enough values to unpack (expected 2, got 1) skipping\n",
    "    Error not enough values to unpack (expected 2, got 1)\n",
    "    Datei war D:\\datasets\\Stadt_SG\\downloads\\extract\\6139c48a32ab4a29b4c9b6767e342a7f\\Übersichtsplan; Rehetobelstrasse, Flurhofstrasse bis Haus Nr. 48; Verpflichtungskredit - 18.06.2020 #3.pdf\n",
    "    not enough values to unpack (expected 2, got 1) skipping\n",
    "    Error not enough values to unpack (expected 2, got 1)\n",
    "    Datei war D:\\datasets\\Stadt_SG\\downloads\\extract\\68edfa289d89437e98059b0c9fd0ab16\\Teilstrassenplan; St.Leonhard-Strasse, Bushaltestelle Rosenbergstrasse - 16.06.2020 #1.pdf\n",
    "    not enough values to unpack (expected 2, got 1) skipping\n",
    "    Error not enough values to unpack (expected 2, got 1)\n",
    "    Datei war D:\\datasets\\Stadt_SG\\downloads\\extract\\c7d4a4ed04ed413c85b3484b63a82a83\\Teilstrassenplan; Teufener Strasse, Instandstellung und Neugestaltung Davidstrasse bis Oberstrasse; Verpflichtungskredit 11.02.2020 #1.pdf\n",
    "    not enough values to unpack (expected 2, got 1) skipping\n",
    "    Error not enough values to unpack (expected 2, got 1)\n",
    "    Datei war D:\\datasets\\Stadt_SG\\downloads\\extract\\c7d4a4ed04ed413c85b3484b63a82a83\\Übersichtsplan; Teufener Strasse, Instandstellung und Neugestaltung Davidstrasse bis Oberstrasse; Verpflichtungskredit 11.02.2020 #3.pdf\n",
    "    not enough values to unpack (expected 2, got 1) skipping\n",
    "    Done. Wrote to D:\\datasets\\Stadt_SG\\extracts"
   ]
  },
  {
   "cell_type": "code",
   "execution_count": 68,
   "id": "aa8340d6-a319-401d-8465-246de61853e9",
   "metadata": {},
   "outputs": [
    {
     "name": "stdout",
     "output_type": "stream",
     "text": [
      "Error not enough values to unpack (expected 2, got 1)\n",
      "Datei war C:\\Temp\\Stadt_SG\\downloads\\extract\\1f9ecaa938b443bea854b8a32263e07b\\LA Neudorf Planbeilage Projekt neu - 02.07.2021 #1.pdf\n",
      "not enough values to unpack (expected 2, got 1) skipping\n"
     ]
    },
    {
     "data": {
      "text/plain": [
       "'valueerror'"
      ]
     },
     "execution_count": 68,
     "metadata": {},
     "output_type": "execute_result"
    }
   ],
   "source": [
    "file = r'C:\\Temp\\Stadt_SG\\downloads\\extract\\0ffcaafb3117404385b9fcf60739c613\\Übersichtsplan, Kolumbanstrasse, Heimatstrasse bis Heiligkreuzstrasse; Verpflichtu - 24.11.2020 #1.pdf'\n",
    "file = r'C:\\Temp\\Stadt_SG\\downloads\\extract\\1f9ecaa938b443bea854b8a32263e07b\\LA Neudorf Planbeilage Bestand neu - 02.07.2021 #2.pdf'\n",
    "file = r'C:\\Temp\\Stadt_SG\\downloads\\extract\\1f9ecaa938b443bea854b8a32263e07b\\LA Neudorf Planbeilage Projekt neu - 02.07.2021 #1.pdf'\n",
    "process_file(file)"
   ]
  },
  {
   "cell_type": "code",
   "execution_count": 70,
   "id": "0c5d9287-546f-4dad-bc66-b564725092dd",
   "metadata": {},
   "outputs": [],
   "source": [
    "def dump_to_csv():\n",
    "    filelist = glob(os.path.join(Text_Pfad,'*\\*.txt'))\n",
    "\n",
    "    data = {}\n",
    "    for file in filelist:\n",
    "        with codecs.open(file,'r',encoding='utf-8') as fh:\n",
    "            lines = fh.readlines()\n",
    "        text = ''.join(lines)\n",
    "        data[file]=text\n",
    "    data_dict = {os.path.basename(k):v for k,v in data.items()}\n",
    "    index = np.arange(len(data_dict))\n",
    "    df = pd.DataFrame(data_dict,index=index)\n",
    "    return df\n",
    "\n",
    "df = dump_to_csv()\n"
   ]
  },
  {
   "cell_type": "code",
   "execution_count": null,
   "id": "35f2673e-7615-4b36-9bf7-d0a9c69f6c17",
   "metadata": {},
   "outputs": [],
   "source": [
    "def main ():\n",
    "    Text_Pfad, PDF_Pfad, ZIP_Pfad=creatdirection('../config.ini')\n",
    "    inputcsv = get_traktandierte_geschaefte('../config.ini')\n",
    "    inputcsv['Download Traktandumsdokumente'].dropna().progress_apply(lambda s: download_and_save(s,zippath=ZIP_Pfad,pdfpath=PDF_Pfad))\n",
    "    "
   ]
  }
 ],
 "metadata": {
  "kernelspec": {
   "display_name": "Python (MALE)",
   "language": "python",
   "name": "male"
  },
  "language_info": {
   "codemirror_mode": {
    "name": "ipython",
    "version": 3
   },
   "file_extension": ".py",
   "mimetype": "text/x-python",
   "name": "python",
   "nbconvert_exporter": "python",
   "pygments_lexer": "ipython3",
   "version": "3.9.7"
  }
 },
 "nbformat": 4,
 "nbformat_minor": 5
}
