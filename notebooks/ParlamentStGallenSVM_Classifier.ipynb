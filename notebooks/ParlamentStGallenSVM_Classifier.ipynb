{
 "cells": [
  {
   "cell_type": "markdown",
   "id": "f7d48cee",
   "metadata": {},
   "source": [
    "- Führt Support Vector Machine Klassifikatoin durch \n",
    "- Der Klassifikator wurde optimiert mit Grid search : kernel ='sigmoid', probability = True, C=2, degree = 1, gamma = 1\n",
    "- Erstellt eine Pickle datei"
   ]
  },
  {
   "cell_type": "code",
   "execution_count": 3,
   "id": "f90a9ce8",
   "metadata": {},
   "outputs": [],
   "source": [
    "import numpy as np\n",
    "import pandas as pd\n",
    "import matplotlib.pyplot as plt\n",
    "import nltk\n",
    "from nltk import word_tokenize\n",
    "from nltk.corpus import stopwords\n",
    "from sklearn.feature_extraction.text import CountVectorizer\n",
    "from sklearn.feature_extraction.text import TfidfVectorizer\n",
    "from sklearn import svm\n",
    "import csv\n",
    "from sklearn.svm import SVC\n",
    "from sklearn.model_selection import train_test_split\n",
    "from sklearn.pipeline import Pipeline\n",
    "import pickle\n",
    "import os"
   ]
  },
  {
   "cell_type": "markdown",
   "id": "71b94d05",
   "metadata": {},
   "source": [
    "### Definiere hier deinen eigenen Datenpfad!!"
   ]
  },
  {
   "cell_type": "code",
   "execution_count": 5,
   "id": "87c8b206",
   "metadata": {},
   "outputs": [],
   "source": [
    "#Input Datenpfad (Ordner mit train und test Daten)\n",
    "Input_Datenpfad = 'C:/Users/pasca/OneDrive/Dokumente/MALE/KaggleParlamentStGallen/DonwloadDatenKaggle'\n",
    "Input_Datenpfad = r'C:\\Users\\TOB\\OneDrive\\OneDrive - OST\\Projekte_Onedrive\\MaLe-Entwicklung\\Überarbeitung FS22\\Nicola_Wullschleger\\opendatasg\\input'\n",
    "Testdatei = os.path.join(Input_Datenpfad,'test.csv')\n",
    "Trainingsdatei = os.path.join(Input_Datenpfad,'train.csv')\n",
    "\n",
    "#Output Datenpfad (Ordner wo die Pickle Datei und die Kaggle Submission gespeicher werden)\n",
    "Output_Datenpfad = 'C:/Users/pasca/OneDrive/Dokumente/MALE/KaggleParlamentStGallen/ParlamentStGallenSVM_Classifier'\n",
    "Output_Datenpfad = r'C:\\Users\\TOB\\OneDrive\\OneDrive - OST\\Projekte_Onedrive\\MaLe-Entwicklung\\Überarbeitung FS22\\Nicola_Wullschleger\\opendatasg\\output'\n",
    "\n",
    "Ausgabe_Submission = os.path.join(Output_Datenpfad,'Sample_submission_pw.csv')\n",
    "Ausgabe_Pickle_Datei = os.path.join(Output_Datenpfad,'SVMStGallen.pickle')"
   ]
  },
  {
   "cell_type": "markdown",
   "id": "347c6718",
   "metadata": {},
   "source": [
    "### Datenimport"
   ]
  },
  {
   "cell_type": "code",
   "execution_count": 6,
   "id": "106548fc",
   "metadata": {},
   "outputs": [],
   "source": [
    "dftest = pd.read_csv(Testdatei,index_col='Id')\n",
    "dftrain = pd.read_csv(Trainingsdatei,index_col='Id')"
   ]
  },
  {
   "cell_type": "markdown",
   "id": "780190e5",
   "metadata": {},
   "source": [
    "### Vectorizer"
   ]
  },
  {
   "cell_type": "code",
   "execution_count": 7,
   "id": "3646f5f5",
   "metadata": {},
   "outputs": [],
   "source": [
    "sw = set(stopwords.words('german'))\n",
    "vect = TfidfVectorizer(stop_words=sw)\n",
    "Xtrain = vect.fit_transform(dftrain.X1)\n",
    "Xtest = vect.transform(dftest.X1)"
   ]
  },
  {
   "cell_type": "markdown",
   "id": "ceeab9eb",
   "metadata": {},
   "source": [
    "### Model Fit"
   ]
  },
  {
   "cell_type": "code",
   "execution_count": 8,
   "id": "75ed3b66",
   "metadata": {},
   "outputs": [
    {
     "data": {
      "text/plain": [
       "0.9850498338870431"
      ]
     },
     "execution_count": 8,
     "metadata": {},
     "output_type": "execute_result"
    }
   ],
   "source": [
    "clf = svm.SVC(kernel='sigmoid',probability=True,C=2,degree=1,gamma=1)\n",
    "clf.fit(Xtrain, dftrain.y)\n",
    "clf.score(Xtrain,dftrain.y)"
   ]
  },
  {
   "cell_type": "markdown",
   "id": "2d53c179",
   "metadata": {},
   "source": [
    "### Model Preditct und Transformation in Format für Kaggle Submission"
   ]
  },
  {
   "cell_type": "code",
   "execution_count": 9,
   "id": "7a77ab9a",
   "metadata": {},
   "outputs": [
    {
     "data": {
      "text/plain": [
       "['0,16 2 4\\n', '1,12 11 2\\n', '2,0 16 6\\n', '3,16 14 5\\n', '4,10 8 16\\n']"
      ]
     },
     "execution_count": 9,
     "metadata": {},
     "output_type": "execute_result"
    }
   ],
   "source": [
    "phat_test = clf.predict_proba(vect.transform(dftest.X1))\n",
    "indices = np.argsort(phat_test,axis=1)[:,-3:]\n",
    "indices=indices[:,::-1]\n",
    "rowlist = [str(ind)+','+' '.join(row)+'\\n' for row,ind in zip(indices.astype('str').tolist(),dftest.index)]\n",
    "rowlist[:5]"
   ]
  },
  {
   "cell_type": "markdown",
   "id": "201aa376",
   "metadata": {},
   "source": [
    "### Speichern CSV"
   ]
  },
  {
   "cell_type": "code",
   "execution_count": 10,
   "id": "fa2b51ad",
   "metadata": {},
   "outputs": [],
   "source": [
    "with open(Ausgabe_Submission,'w') as fh:\n",
    "    fh.write('Id,y\\n')\n",
    "    fh.writelines(rowlist)"
   ]
  },
  {
   "cell_type": "markdown",
   "id": "a098b19c",
   "metadata": {},
   "source": [
    "### Erstellen und Export von Pickle Datei"
   ]
  },
  {
   "cell_type": "code",
   "execution_count": 11,
   "id": "546011e9",
   "metadata": {},
   "outputs": [],
   "source": [
    "SVMpipStGallen = Pipeline([('tfidf',TfidfVectorizer(stop_words=sw)),\n",
    "                           ('classifier',svm.SVC(kernel='sigmoid',probability=True,C=2,degree=1,gamma=1))])"
   ]
  },
  {
   "cell_type": "code",
   "execution_count": 12,
   "id": "2a2742f9",
   "metadata": {},
   "outputs": [
    {
     "data": {
      "text/plain": [
       "Pipeline(steps=[('tfidf',\n",
       "                 TfidfVectorizer(stop_words={'aber', 'alle', 'allem', 'allen',\n",
       "                                             'aller', 'alles', 'als', 'also',\n",
       "                                             'am', 'an', 'ander', 'andere',\n",
       "                                             'anderem', 'anderen', 'anderer',\n",
       "                                             'anderes', 'anderm', 'andern',\n",
       "                                             'anderr', 'anders', 'auch', 'auf',\n",
       "                                             'aus', 'bei', 'bin', 'bis', 'bist',\n",
       "                                             'da', 'damit', 'dann', ...})),\n",
       "                ('classifier',\n",
       "                 SVC(C=2, degree=1, gamma=1, kernel='sigmoid',\n",
       "                     probability=True))])"
      ]
     },
     "execution_count": 12,
     "metadata": {},
     "output_type": "execute_result"
    }
   ],
   "source": [
    "SVMpipStGallen.fit(dftrain.X1,dftrain.y)"
   ]
  },
  {
   "cell_type": "code",
   "execution_count": 13,
   "id": "e4664f9f",
   "metadata": {},
   "outputs": [],
   "source": [
    "with open(Ausgabe_Pickle_Datei,'wb') as fh:\n",
    "    pickle.dump(SVMpipStGallen,fh)"
   ]
  },
  {
   "cell_type": "markdown",
   "id": "6c18c96f",
   "metadata": {},
   "source": [
    "### Import und Testen von Pickle"
   ]
  },
  {
   "cell_type": "code",
   "execution_count": 53,
   "id": "5af1ec89",
   "metadata": {},
   "outputs": [],
   "source": [
    "with open(Ausgabe_Pickle_Datei, 'rb') as fh:\n",
    "    SVMStGallen = pickle.load(fh)"
   ]
  },
  {
   "cell_type": "code",
   "execution_count": 54,
   "id": "f6885d25",
   "metadata": {},
   "outputs": [
    {
     "data": {
      "text/plain": [
       "['0,16 2 4\\n', '1,12 11 13\\n', '2,0 16 6\\n', '3,16 14 5\\n', '4,10 8 16\\n']"
      ]
     },
     "execution_count": 54,
     "metadata": {},
     "output_type": "execute_result"
    }
   ],
   "source": [
    "phat_test = SVMStGallen.predict_proba(dftest.X1)\n",
    "indices = np.argsort(phat_test,axis=1)[:,-3:]\n",
    "indices=indices[:,::-1]\n",
    "rowlist = [str(ind)+','+' '.join(row)+'\\n' for row,ind in zip(indices.astype('str').tolist(),dftest.index)]\n",
    "rowlist[:5]"
   ]
  },
  {
   "cell_type": "markdown",
   "id": "d046cbfb",
   "metadata": {},
   "source": [
    "Ausgabe soll eine Zele mit folgenden Argumenten enthalten: default das ein Titel ausgegeben wird, aber auch einstellung das alle 3 oder eine beliebige Anzahl an Titeln ausgegeben wird. Hinter dem Titel soll die Proba stehen. das heisst, ein panda df mit zwei spalten. wenn man drei ausgaben haben will dann gibt es hald 6 Spalten"
   ]
  },
  {
   "cell_type": "code",
   "execution_count": null,
   "id": "d0855864",
   "metadata": {},
   "outputs": [],
   "source": []
  }
 ],
 "metadata": {
  "kernelspec": {
   "display_name": "OpenData",
   "language": "python",
   "name": "opendata"
  },
  "language_info": {
   "codemirror_mode": {
    "name": "ipython",
    "version": 3
   },
   "file_extension": ".py",
   "mimetype": "text/x-python",
   "name": "python",
   "nbconvert_exporter": "python",
   "pygments_lexer": "ipython3",
   "version": "3.11.6"
  }
 },
 "nbformat": 4,
 "nbformat_minor": 5
}
